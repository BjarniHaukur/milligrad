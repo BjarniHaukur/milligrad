{
 "cells": [
  {
   "cell_type": "markdown",
   "metadata": {},
   "source": [
    "# Assignment 4"
   ]
  },
  {
   "cell_type": "code",
   "execution_count": 1,
   "metadata": {},
   "outputs": [],
   "source": [
    "# autoreload\n",
    "%load_ext autoreload\n",
    "%autoreload 2\n",
    "\n",
    "from milligrad import Tensor\n",
    "import numpy as np\n",
    "\n",
    "np.random.seed(1337)"
   ]
  },
  {
   "cell_type": "markdown",
   "metadata": {},
   "source": [
    "### 0.1 - Read in the data"
   ]
  },
  {
   "cell_type": "code",
   "execution_count": 2,
   "metadata": {},
   "outputs": [],
   "source": [
    "# Read in data\n",
    "with open('goblet_book.txt', 'r') as f:\n",
    "    book_data = f.read()\n",
    "\n",
    "# Create mappings\n",
    "BOS, BOS_ID = \"<BOS>\", 0\n",
    "# EOS, EOS_ID = \"<EOS>\", 1\n",
    "\n",
    "chr_to_ids = {BOS: BOS_ID}\n",
    "for c in sorted(set(book_data)): chr_to_ids[c] = len(chr_to_ids)\n",
    "# chr_to_ids = {c: i for i, c in enumerate(sorted(set(book_data)))}\n",
    "ids_to_chr = {i: c for c, i in chr_to_ids.items()}\n",
    "\n",
    "def tokenize(text:str)->list[int]: # cannot tokenize generated text (i.e. those containing <BOS>)\n",
    "    return [chr_to_ids[c] for c in text]\n",
    "\n",
    "def detokenize(tokens:list[int])->str:\n",
    "    return \"\".join([ids_to_chr[ids] for ids in tokens])"
   ]
  },
  {
   "cell_type": "markdown",
   "metadata": {},
   "source": [
    "### 0.2 - Hyperparameters"
   ]
  },
  {
   "cell_type": "code",
   "execution_count": 3,
   "metadata": {},
   "outputs": [],
   "source": [
    "INPUT_DIM = len(chr_to_ids)\n",
    "HIDDEN_DIM = 100\n",
    "BATCH_SIZE = 64\n",
    "SEQ_LEN = 25\n",
    "ETA = 0.1"
   ]
  },
  {
   "cell_type": "markdown",
   "metadata": {},
   "source": [
    "### 0.3 and 0.4 - Initialize RNN and implement forward pass (backward pass handled by the autograd)"
   ]
  },
  {
   "cell_type": "code",
   "execution_count": 4,
   "metadata": {},
   "outputs": [
    {
     "data": {
      "text/plain": [
       "(32, 4, 81)"
      ]
     },
     "execution_count": 4,
     "metadata": {},
     "output_type": "execute_result"
    }
   ],
   "source": [
    "class RNN:\n",
    "    def __init__(self, input_dim:int, hidden_dim:int):\n",
    "        self.input_dim, self.hidden_dim = input_dim, hidden_dim\n",
    "        self.wi = Tensor.xavier(input_dim, hidden_dim)\n",
    "        self.wh = Tensor.xavier(hidden_dim, hidden_dim)\n",
    "        self.bh = Tensor.zeros(hidden_dim)\n",
    "\n",
    "        self.wo = Tensor.xavier(hidden_dim, input_dim)\n",
    "        self.bo = Tensor.zeros(input_dim)\n",
    "\n",
    "    def __call__(self, x:Tensor, h:Tensor=None)->Tensor:\n",
    "        B, L, _ = x.shape\n",
    "\n",
    "        if h is None: h = Tensor.zeros(B, self.hidden_dim)\n",
    "\n",
    "        outputs = []\n",
    "        for i in range(L):\n",
    "            h = (x[:,i,:] @ self.wi + h @ self.wh + self.bh).tanh()\n",
    "            outputs.append(h)\n",
    "\n",
    "        stacked_outputs = Tensor.stack(outputs, axis=1)\n",
    "        return stacked_outputs @ self.wo + self.bo, h\n",
    "    \n",
    "    def parameters(self)->list[Tensor]:\n",
    "        return [self.wi, self.wh, self.bh, self.wo, self.bo]\n",
    "    \n",
    "model = RNN(INPUT_DIM, HIDDEN_DIM)\n",
    "out, h = model(Tensor.randn(32, 4, INPUT_DIM)) # smaller seq to view the backpropagation graph\n",
    "out.shape"
   ]
  },
  {
   "cell_type": "markdown",
   "metadata": {},
   "source": [
    "### 0.5 - Verify gradients\n",
    "\n",
    "I will assume that my architecture is correct and simply verify the gradient calculations by comparing to a pytorch implementation with the same weights."
   ]
  },
  {
   "cell_type": "code",
   "execution_count": 5,
   "metadata": {},
   "outputs": [],
   "source": [
    "import torch\n",
    "import torch.nn as nn\n",
    "import torch.nn.functional as F\n",
    "\n",
    "class TorchRNN(nn.Module):\n",
    "    def __init__(self, input_dim: int, hidden_dim: int):\n",
    "        super(TorchRNN, self).__init__()\n",
    "        self.input_dim = input_dim\n",
    "        self.hidden_dim = hidden_dim\n",
    "\n",
    "        self.wi = nn.Parameter(torch.nn.init.xavier_normal_(torch.empty(input_dim, hidden_dim)))\n",
    "        self.wh = nn.Parameter(torch.nn.init.xavier_normal_(torch.empty(hidden_dim, hidden_dim)))\n",
    "        self.bh = nn.Parameter(torch.zeros(hidden_dim))\n",
    "\n",
    "        self.wo = nn.Parameter(torch.nn.init.xavier_normal_(torch.empty(hidden_dim, input_dim)))\n",
    "        self.bo = nn.Parameter(torch.zeros(input_dim))\n",
    "\n",
    "    def forward(self, x, h=None):\n",
    "        B, L, _ = x.shape\n",
    "\n",
    "        if h is None:\n",
    "            h = torch.zeros(B, self.hidden_dim)\n",
    "\n",
    "        outputs = []\n",
    "        for i in range(L):\n",
    "            h = torch.tanh(x[:, i,:] @ self.wi + h @ self.wh + self.bh)\n",
    "            outputs.append(h)\n",
    "\n",
    "        stacked_outputs = torch.stack(outputs, dim=1)\n",
    "        return stacked_outputs @ self.wo + self.bo, h\n",
    "\n",
    "    def copy_weights_from(self, original_rnn):\n",
    "        with torch.no_grad():\n",
    "            self.wi.copy_(torch.from_numpy(original_rnn.wi.data).clone().detach())\n",
    "            self.wh.copy_(torch.from_numpy(original_rnn.wh.data).clone().detach())\n",
    "            self.bh.copy_(torch.from_numpy(original_rnn.bh.data).clone().detach())\n",
    "            self.wo.copy_(torch.from_numpy(original_rnn.wo.data).clone().detach())\n",
    "            self.bo.copy_(torch.from_numpy(original_rnn.bo.data).clone().detach())\n"
   ]
  },
  {
   "cell_type": "code",
   "execution_count": 6,
   "metadata": {},
   "outputs": [],
   "source": [
    "milli_model = RNN(INPUT_DIM, HIDDEN_DIM)\n",
    "torch_model = TorchRNN(INPUT_DIM, HIDDEN_DIM)\n",
    "torch_model.copy_weights_from(milli_model)\n",
    "\n",
    "x_np = np.random.randn(BATCH_SIZE, SEQ_LEN, INPUT_DIM).astype(np.float32)\n",
    "h_np = np.random.randn(BATCH_SIZE, HIDDEN_DIM).astype(np.float32)\n",
    "\n",
    "milli_out, _ = milli_model(Tensor(x_np), Tensor(h_np))\n",
    "torch_out, _ = torch_model(torch.from_numpy(x_np), torch.from_numpy(h_np))\n",
    "\n",
    "np.testing.assert_allclose(\n",
    "    milli_out.data, torch_out.detach().numpy(),\n",
    "    atol=1e-5\n",
    ")\n",
    "\n",
    "milli_out.sum().backward()\n",
    "torch_out.sum().backward()\n",
    "\n",
    "np.testing.assert_allclose(\n",
    "    milli_model.wi.grad, torch_model.wi.grad.detach().numpy(),\n",
    "    atol=3e-4\n",
    ")"
   ]
  },
  {
   "cell_type": "markdown",
   "metadata": {},
   "source": [
    "### 0.6 - Gradient clipping"
   ]
  },
  {
   "cell_type": "code",
   "execution_count": 7,
   "metadata": {},
   "outputs": [],
   "source": [
    "def clip_gradient(parameters:list[Tensor]):\n",
    "    for p in parameters:\n",
    "        p.grad = np.clip(p.grad, -5, 5)\n"
   ]
  },
  {
   "cell_type": "markdown",
   "metadata": {},
   "source": [
    "### 0.7 - Implement AdaGrad optimizer"
   ]
  },
  {
   "cell_type": "code",
   "execution_count": 8,
   "metadata": {},
   "outputs": [],
   "source": [
    "class AdaGrad:\n",
    "    def __init__(self, params:list[Tensor], lr:float=0.01, epsilon:float=1e-8):\n",
    "        self.params = params\n",
    "        self.lr = lr\n",
    "        self.epsilon = epsilon\n",
    "        self.cache = [np.zeros_like(p.data) for p in self.params]\n",
    "\n",
    "    def step(self):\n",
    "        for i, p in enumerate(self.params):\n",
    "            self.cache[i] += p.grad ** 2\n",
    "            p.data -= self.lr * p.grad / (np.sqrt(self.cache[i]) + self.epsilon)\n",
    "\n",
    "    def zero_grad(self):\n",
    "        for p in self.params: p.grad = np.zeros_like(p.grad)\n",
    "               "
   ]
  },
  {
   "cell_type": "markdown",
   "metadata": {},
   "source": [
    "### 0.8 - Implement text synthesis"
   ]
  },
  {
   "cell_type": "code",
   "execution_count": 9,
   "metadata": {},
   "outputs": [
    {
     "data": {
      "text/plain": [
       "('eEgTlz7ioD', 'Bhvü9q•yC2', 'JQ?IqM/40A')"
      ]
     },
     "execution_count": 9,
     "metadata": {},
     "output_type": "execute_result"
    }
   ],
   "source": [
    "def generate_deterministic(model, max_length=1000)->str:\n",
    "    h = Tensor.zeros(1, HIDDEN_DIM) # batch size is 1\n",
    "    tokens = [BOS_ID]\n",
    "    for _ in range(max_length):\n",
    "        ohe = np.eye(len(chr_to_ids))[tokens[-1]]\n",
    "        x = Tensor(ohe.reshape(1,1,-1)) # batch size 1, \"seq_len\" 1\n",
    "        out, h = model(x, h)\n",
    "        token = out.data.squeeze().argmax()\n",
    "\n",
    "        tokens.append(token)\n",
    "\n",
    "    return detokenize(tokens[1:])\n",
    "\n",
    "def generate_nondeterministic(model, max_length=1000, temperature:float=1.0)->str:\n",
    "    h = Tensor.zeros(1, HIDDEN_DIM) # batch size is 1\n",
    "    tokens = [BOS_ID]\n",
    "    for _ in range(max_length):\n",
    "        ohe = np.eye(len(chr_to_ids))[tokens[-1]]\n",
    "        x = Tensor(ohe.reshape(1,1,-1)) # batch size 1, \"seq_len\" 1\n",
    "        out, h = model(x, h)\n",
    "        p = (out / temperature).softmax()\n",
    "        token = np.random.choice(range(len(chr_to_ids)), p=p.data.flatten())\n",
    "\n",
    "        tokens.append(token)\n",
    "\n",
    "    return detokenize(tokens[1:])\n",
    "\n",
    "def generate_nondeterministic_nucleous(model, max_length=1000, temperature:float=1.0, nucleus_threshold:float=0.9)->str:\n",
    "    h = Tensor.zeros(1, HIDDEN_DIM)  # batch size is 1\n",
    "    tokens = [BOS_ID]\n",
    "    \n",
    "    for _ in range(max_length):\n",
    "        ohe = np.eye(len(chr_to_ids))[tokens[-1]]\n",
    "        x = Tensor(ohe.reshape(1, 1, -1))  # batch size 1, \"seq_len\" 1\n",
    "        out, h = model(x, h)\n",
    "        p = (out / temperature).softmax()\n",
    "        p_data = p.data.flatten()\n",
    "\n",
    "        # Nucleus sampling\n",
    "        sorted_indices = np.argsort(p_data)[::-1]\n",
    "        cumulative_probs = np.cumsum(p_data[sorted_indices])\n",
    "        cutoff = np.searchsorted(cumulative_probs, nucleus_threshold)\n",
    "        top_indices = sorted_indices[:cutoff + 1]\n",
    "        \n",
    "        p_top = p_data[top_indices]\n",
    "        p_top /= p_top.sum()  # Normalize to form a probability distribution\n",
    "        \n",
    "        token = np.random.choice(top_indices, p=p_top)\n",
    "        tokens.append(token)\n",
    "    \n",
    "    return detokenize(tokens[1:])\n",
    "        \n",
    "generate_deterministic(model, 10), generate_nondeterministic(model, 10, 0.5), generate_nondeterministic_nucleous(model, 10, 0.5, 0.9)"
   ]
  },
  {
   "cell_type": "markdown",
   "metadata": {},
   "source": [
    "### 0.9 - Implement training loop"
   ]
  },
  {
   "cell_type": "code",
   "execution_count": 10,
   "metadata": {},
   "outputs": [],
   "source": [
    "train_ratio = 0.8\n",
    "val_ratio = 0.1\n",
    "test_ratio = 0.1\n",
    "\n",
    "# Calculate split indices\n",
    "data_size = len(book_data)\n",
    "train_size = int(data_size * train_ratio)\n",
    "val_size = int(data_size * val_ratio)\n",
    "\n",
    "# Split the book_data\n",
    "train_data = book_data[:train_size]\n",
    "val_data = book_data[train_size:train_size + val_size]\n",
    "test_data = book_data[train_size + val_size:]"
   ]
  },
  {
   "cell_type": "code",
   "execution_count": 11,
   "metadata": {},
   "outputs": [],
   "source": [
    "            \n",
    "def dataloader(data, batch_size, seq_length, shuffle=False):\n",
    "    data_size = len(data)\n",
    "    num_batches = data_size // (seq_length * batch_size)\n",
    "    \n",
    "    ohe_matrix = np.eye(len(chr_to_ids))\n",
    "\n",
    "    trimmed_data = data[:num_batches * seq_length * batch_size]\n",
    "    ohe_data = ohe_matrix[tokenize(trimmed_data)]\n",
    "\n",
    "    BOS_OHE = ohe_matrix[[BOS_ID] * batch_size].reshape(batch_size, 1, -1)\n",
    "    \n",
    "    # Reshape into batches\n",
    "    ohe_data = ohe_data.reshape((num_batches * batch_size, seq_length, len(chr_to_ids)))\n",
    "    \n",
    "    if shuffle: np.random.shuffle(ohe_data)\n",
    "    for i in range(num_batches):\n",
    "        x = ohe_data[i * batch_size: (i + 1) * batch_size]\n",
    "        y = ohe_data[i * batch_size: (i + 1) * batch_size]\n",
    "        \n",
    "        # Append/Prepend BOS and EOS tokens\n",
    "        x = np.concatenate([BOS_OHE, x], axis=1)[:,:-1] # drop last token\n",
    "        \n",
    "        yield x, y"
   ]
  },
  {
   "cell_type": "code",
   "execution_count": 12,
   "metadata": {},
   "outputs": [
    {
     "name": "stderr",
     "output_type": "stream",
     "text": [
      "Epoch 1/10:   0%|          | 0/553 [00:00<?, ?it/s]"
     ]
    },
    {
     "name": "stderr",
     "output_type": "stream",
     "text": [
      "Epoch 1/10:  60%|██████    | 334/553 [00:11<00:07, 29.86it/s, smoothed_loss=94.8]\n"
     ]
    },
    {
     "ename": "KeyboardInterrupt",
     "evalue": "",
     "output_type": "error",
     "traceback": [
      "\u001b[0;31m---------------------------------------------------------------------------\u001b[0m",
      "\u001b[0;31mKeyboardInterrupt\u001b[0m                         Traceback (most recent call last)",
      "Cell \u001b[0;32mIn[12], line 39\u001b[0m\n\u001b[1;32m     36\u001b[0m train_tqdm\u001b[38;5;241m.\u001b[39mset_postfix({\u001b[38;5;124m\"\u001b[39m\u001b[38;5;124msmoothed_loss\u001b[39m\u001b[38;5;124m\"\u001b[39m: smoothed_loss})\n\u001b[1;32m     38\u001b[0m optim\u001b[38;5;241m.\u001b[39mzero_grad()\n\u001b[0;32m---> 39\u001b[0m \u001b[43mloss\u001b[49m\u001b[38;5;241;43m.\u001b[39;49m\u001b[43mbackward\u001b[49m\u001b[43m(\u001b[49m\u001b[43m)\u001b[49m\n\u001b[1;32m     40\u001b[0m clip_gradient(model\u001b[38;5;241m.\u001b[39mparameters())\n\u001b[1;32m     41\u001b[0m optim\u001b[38;5;241m.\u001b[39mstep()\n",
      "File \u001b[0;32m~/proj/milligrad/milligrad/tensor.py:67\u001b[0m, in \u001b[0;36mTensor.backward\u001b[0;34m(self)\u001b[0m\n\u001b[1;32m     65\u001b[0m \u001b[38;5;28;01mfor\u001b[39;00m i, tensor \u001b[38;5;129;01min\u001b[39;00m \u001b[38;5;28menumerate\u001b[39m(\u001b[38;5;28mreversed\u001b[39m(topological_sort(\u001b[38;5;28mself\u001b[39m))):\n\u001b[1;32m     66\u001b[0m     tensor\u001b[38;5;241m.\u001b[39m_backward() \u001b[38;5;66;03m# relevant data kept in these closures\u001b[39;00m\n\u001b[0;32m---> 67\u001b[0m     tensor\u001b[38;5;241m.\u001b[39m_backward \u001b[38;5;241m=\u001b[39m \u001b[38;5;28;01mlambda\u001b[39;00m: \u001b[38;5;28;01mNone\u001b[39;00m\n",
      "\u001b[0;31mKeyboardInterrupt\u001b[0m: "
     ]
    }
   ],
   "source": [
    "import math\n",
    "from tqdm import tqdm\n",
    "\n",
    "from milligrad.optim import Adam\n",
    "\n",
    "EPOCHS = 10\n",
    "\n",
    "model = RNN(INPUT_DIM, HIDDEN_DIM)\n",
    "optim = Adam(model.parameters(), lr=1e-2)\n",
    "\n",
    "smoothed_loss = -math.log(1/len(chr_to_ids)) * SEQ_LEN # start the loss as the expected value of random guesses\n",
    "\n",
    "smoothed_losses = []\n",
    "training_losses = []\n",
    "validation_losses = []\n",
    "sampled_text_deterministic = []\n",
    "sampled_text_nondeterministic = []\n",
    "\n",
    "# Training loop\n",
    "for epoch in range(EPOCHS):\n",
    "    train_tqdm = tqdm(dataloader(train_data, BATCH_SIZE, SEQ_LEN, shuffle=True), desc=f\"Epoch {epoch+1}/{EPOCHS}\", total=len(train_data) // (SEQ_LEN * BATCH_SIZE))\n",
    "    epoch_loss = 0\n",
    "    \n",
    "    for x, y in train_tqdm:\n",
    "        x = Tensor(x)\n",
    "        y = Tensor(y)\n",
    "\n",
    "        y_hat, _ = model(x)\n",
    "\n",
    "        loss = -(y * y_hat.log_softmax()).sum(-1).sum(-1).mean()  # sum over vocab and sequence, mean over batch\n",
    "\n",
    "        epoch_loss += loss.data\n",
    "        \n",
    "        smoothed_loss = 0.999 * smoothed_loss + 0.001 * loss.data\n",
    "        smoothed_losses.append(smoothed_loss)\n",
    "        train_tqdm.set_postfix({\"smoothed_loss\": smoothed_loss})\n",
    "\n",
    "        optim.zero_grad()\n",
    "        loss.backward()\n",
    "        clip_gradient(model.parameters())\n",
    "        optim.step()\n",
    "    \n",
    "    # Log the training loss for the epoch\n",
    "    avg_epoch_loss = epoch_loss / (len(train_data) // (SEQ_LEN * BATCH_SIZE))\n",
    "    training_losses.append(avg_epoch_loss)\n",
    "\n",
    "    # Calculate validation loss\n",
    "    val_loss = 0\n",
    "    val_batches = len(val_data) // (SEQ_LEN * BATCH_SIZE)\n",
    "    for x, y in dataloader(val_data, BATCH_SIZE, SEQ_LEN, shuffle=False):\n",
    "        x = Tensor(x)\n",
    "        y = Tensor(y)\n",
    "\n",
    "        y_hat, _ = model(x)\n",
    "        loss = -(y * y_hat.log_softmax()).sum(-1).sum(-1).mean()  # sum over vocab and sequence, mean over batch\n",
    "        val_loss += loss.data\n",
    "\n",
    "    avg_val_loss = val_loss / val_batches\n",
    "    validation_losses.append(avg_val_loss)\n",
    "\n",
    "    # Synthesize text every epoch (or adjust the frequency as needed)\n",
    "    deterministic_text = generate_deterministic(model, max_length=200)\n",
    "    nondeterministic_text = generate_nondeterministic(model, max_length=200, temperature=1.0)\n",
    "    sampled_text_deterministic.append(deterministic_text)\n",
    "    sampled_text_nondeterministic.append(nondeterministic_text)\n",
    "    \n",
    "    print(f\"Deterministic Sample Text after epoch {epoch+1}:\\n{deterministic_text}\")\n",
    "    print(f\"Nondeterministic Sample Text after epoch {epoch+1}:\\n{nondeterministic_text}\")\n",
    "\n"
   ]
  },
  {
   "cell_type": "code",
   "execution_count": 13,
   "metadata": {},
   "outputs": [
    {
     "ename": "ValueError",
     "evalue": "x and y must have same first dimension, but have shapes (10,) and (0,)",
     "output_type": "error",
     "traceback": [
      "\u001b[0;31m---------------------------------------------------------------------------\u001b[0m",
      "\u001b[0;31mValueError\u001b[0m                                Traceback (most recent call last)",
      "Cell \u001b[0;32mIn[13], line 4\u001b[0m\n\u001b[1;32m      1\u001b[0m \u001b[38;5;28;01mfrom\u001b[39;00m \u001b[38;5;21;01mmatplotlib\u001b[39;00m \u001b[38;5;28;01mimport\u001b[39;00m pyplot \u001b[38;5;28;01mas\u001b[39;00m plt\n\u001b[1;32m      3\u001b[0m plt\u001b[38;5;241m.\u001b[39mfigure(figsize\u001b[38;5;241m=\u001b[39m(\u001b[38;5;241m12\u001b[39m, \u001b[38;5;241m6\u001b[39m))\n\u001b[0;32m----> 4\u001b[0m \u001b[43mplt\u001b[49m\u001b[38;5;241;43m.\u001b[39;49m\u001b[43mplot\u001b[49m\u001b[43m(\u001b[49m\u001b[38;5;28;43mrange\u001b[39;49m\u001b[43m(\u001b[49m\u001b[38;5;241;43m1\u001b[39;49m\u001b[43m,\u001b[49m\u001b[43m \u001b[49m\u001b[43mEPOCHS\u001b[49m\u001b[43m \u001b[49m\u001b[38;5;241;43m+\u001b[39;49m\u001b[43m \u001b[49m\u001b[38;5;241;43m1\u001b[39;49m\u001b[43m)\u001b[49m\u001b[43m,\u001b[49m\u001b[43m \u001b[49m\u001b[43mtraining_losses\u001b[49m\u001b[43m,\u001b[49m\u001b[43m \u001b[49m\u001b[43mlabel\u001b[49m\u001b[38;5;241;43m=\u001b[39;49m\u001b[38;5;124;43m'\u001b[39;49m\u001b[38;5;124;43mTraining Loss\u001b[39;49m\u001b[38;5;124;43m'\u001b[39;49m\u001b[43m)\u001b[49m\n\u001b[1;32m      5\u001b[0m plt\u001b[38;5;241m.\u001b[39mplot(\u001b[38;5;28mrange\u001b[39m(\u001b[38;5;241m1\u001b[39m, EPOCHS \u001b[38;5;241m+\u001b[39m \u001b[38;5;241m1\u001b[39m), validation_losses, label\u001b[38;5;241m=\u001b[39m\u001b[38;5;124m'\u001b[39m\u001b[38;5;124mValidation Loss\u001b[39m\u001b[38;5;124m'\u001b[39m)\n\u001b[1;32m      6\u001b[0m plt\u001b[38;5;241m.\u001b[39mxlabel(\u001b[38;5;124m'\u001b[39m\u001b[38;5;124mEpochs\u001b[39m\u001b[38;5;124m'\u001b[39m)\n",
      "File \u001b[0;32m~/proj/milligrad/.venv/lib/python3.12/site-packages/matplotlib/pyplot.py:3590\u001b[0m, in \u001b[0;36mplot\u001b[0;34m(scalex, scaley, data, *args, **kwargs)\u001b[0m\n\u001b[1;32m   3582\u001b[0m \u001b[38;5;129m@_copy_docstring_and_deprecators\u001b[39m(Axes\u001b[38;5;241m.\u001b[39mplot)\n\u001b[1;32m   3583\u001b[0m \u001b[38;5;28;01mdef\u001b[39;00m \u001b[38;5;21mplot\u001b[39m(\n\u001b[1;32m   3584\u001b[0m     \u001b[38;5;241m*\u001b[39margs: \u001b[38;5;28mfloat\u001b[39m \u001b[38;5;241m|\u001b[39m ArrayLike \u001b[38;5;241m|\u001b[39m \u001b[38;5;28mstr\u001b[39m,\n\u001b[0;32m   (...)\u001b[0m\n\u001b[1;32m   3588\u001b[0m     \u001b[38;5;241m*\u001b[39m\u001b[38;5;241m*\u001b[39mkwargs,\n\u001b[1;32m   3589\u001b[0m ) \u001b[38;5;241m-\u001b[39m\u001b[38;5;241m>\u001b[39m \u001b[38;5;28mlist\u001b[39m[Line2D]:\n\u001b[0;32m-> 3590\u001b[0m     \u001b[38;5;28;01mreturn\u001b[39;00m \u001b[43mgca\u001b[49m\u001b[43m(\u001b[49m\u001b[43m)\u001b[49m\u001b[38;5;241;43m.\u001b[39;49m\u001b[43mplot\u001b[49m\u001b[43m(\u001b[49m\n\u001b[1;32m   3591\u001b[0m \u001b[43m        \u001b[49m\u001b[38;5;241;43m*\u001b[39;49m\u001b[43margs\u001b[49m\u001b[43m,\u001b[49m\n\u001b[1;32m   3592\u001b[0m \u001b[43m        \u001b[49m\u001b[43mscalex\u001b[49m\u001b[38;5;241;43m=\u001b[39;49m\u001b[43mscalex\u001b[49m\u001b[43m,\u001b[49m\n\u001b[1;32m   3593\u001b[0m \u001b[43m        \u001b[49m\u001b[43mscaley\u001b[49m\u001b[38;5;241;43m=\u001b[39;49m\u001b[43mscaley\u001b[49m\u001b[43m,\u001b[49m\n\u001b[1;32m   3594\u001b[0m \u001b[43m        \u001b[49m\u001b[38;5;241;43m*\u001b[39;49m\u001b[38;5;241;43m*\u001b[39;49m\u001b[43m(\u001b[49m\u001b[43m{\u001b[49m\u001b[38;5;124;43m\"\u001b[39;49m\u001b[38;5;124;43mdata\u001b[39;49m\u001b[38;5;124;43m\"\u001b[39;49m\u001b[43m:\u001b[49m\u001b[43m \u001b[49m\u001b[43mdata\u001b[49m\u001b[43m}\u001b[49m\u001b[43m \u001b[49m\u001b[38;5;28;43;01mif\u001b[39;49;00m\u001b[43m \u001b[49m\u001b[43mdata\u001b[49m\u001b[43m \u001b[49m\u001b[38;5;129;43;01mis\u001b[39;49;00m\u001b[43m \u001b[49m\u001b[38;5;129;43;01mnot\u001b[39;49;00m\u001b[43m \u001b[49m\u001b[38;5;28;43;01mNone\u001b[39;49;00m\u001b[43m \u001b[49m\u001b[38;5;28;43;01melse\u001b[39;49;00m\u001b[43m \u001b[49m\u001b[43m{\u001b[49m\u001b[43m}\u001b[49m\u001b[43m)\u001b[49m\u001b[43m,\u001b[49m\n\u001b[1;32m   3595\u001b[0m \u001b[43m        \u001b[49m\u001b[38;5;241;43m*\u001b[39;49m\u001b[38;5;241;43m*\u001b[39;49m\u001b[43mkwargs\u001b[49m\u001b[43m,\u001b[49m\n\u001b[1;32m   3596\u001b[0m \u001b[43m    \u001b[49m\u001b[43m)\u001b[49m\n",
      "File \u001b[0;32m~/proj/milligrad/.venv/lib/python3.12/site-packages/matplotlib/axes/_axes.py:1724\u001b[0m, in \u001b[0;36mAxes.plot\u001b[0;34m(self, scalex, scaley, data, *args, **kwargs)\u001b[0m\n\u001b[1;32m   1481\u001b[0m \u001b[38;5;250m\u001b[39m\u001b[38;5;124;03m\"\"\"\u001b[39;00m\n\u001b[1;32m   1482\u001b[0m \u001b[38;5;124;03mPlot y versus x as lines and/or markers.\u001b[39;00m\n\u001b[1;32m   1483\u001b[0m \n\u001b[0;32m   (...)\u001b[0m\n\u001b[1;32m   1721\u001b[0m \u001b[38;5;124;03m(``'green'``) or hex strings (``'#008000'``).\u001b[39;00m\n\u001b[1;32m   1722\u001b[0m \u001b[38;5;124;03m\"\"\"\u001b[39;00m\n\u001b[1;32m   1723\u001b[0m kwargs \u001b[38;5;241m=\u001b[39m cbook\u001b[38;5;241m.\u001b[39mnormalize_kwargs(kwargs, mlines\u001b[38;5;241m.\u001b[39mLine2D)\n\u001b[0;32m-> 1724\u001b[0m lines \u001b[38;5;241m=\u001b[39m [\u001b[38;5;241m*\u001b[39m\u001b[38;5;28mself\u001b[39m\u001b[38;5;241m.\u001b[39m_get_lines(\u001b[38;5;28mself\u001b[39m, \u001b[38;5;241m*\u001b[39margs, data\u001b[38;5;241m=\u001b[39mdata, \u001b[38;5;241m*\u001b[39m\u001b[38;5;241m*\u001b[39mkwargs)]\n\u001b[1;32m   1725\u001b[0m \u001b[38;5;28;01mfor\u001b[39;00m line \u001b[38;5;129;01min\u001b[39;00m lines:\n\u001b[1;32m   1726\u001b[0m     \u001b[38;5;28mself\u001b[39m\u001b[38;5;241m.\u001b[39madd_line(line)\n",
      "File \u001b[0;32m~/proj/milligrad/.venv/lib/python3.12/site-packages/matplotlib/axes/_base.py:303\u001b[0m, in \u001b[0;36m_process_plot_var_args.__call__\u001b[0;34m(self, axes, data, *args, **kwargs)\u001b[0m\n\u001b[1;32m    301\u001b[0m     this \u001b[38;5;241m+\u001b[39m\u001b[38;5;241m=\u001b[39m args[\u001b[38;5;241m0\u001b[39m],\n\u001b[1;32m    302\u001b[0m     args \u001b[38;5;241m=\u001b[39m args[\u001b[38;5;241m1\u001b[39m:]\n\u001b[0;32m--> 303\u001b[0m \u001b[38;5;28;01myield from\u001b[39;00m \u001b[38;5;28;43mself\u001b[39;49m\u001b[38;5;241;43m.\u001b[39;49m\u001b[43m_plot_args\u001b[49m\u001b[43m(\u001b[49m\n\u001b[1;32m    304\u001b[0m \u001b[43m    \u001b[49m\u001b[43maxes\u001b[49m\u001b[43m,\u001b[49m\u001b[43m \u001b[49m\u001b[43mthis\u001b[49m\u001b[43m,\u001b[49m\u001b[43m \u001b[49m\u001b[43mkwargs\u001b[49m\u001b[43m,\u001b[49m\u001b[43m \u001b[49m\u001b[43mambiguous_fmt_datakey\u001b[49m\u001b[38;5;241;43m=\u001b[39;49m\u001b[43mambiguous_fmt_datakey\u001b[49m\u001b[43m)\u001b[49m\n",
      "File \u001b[0;32m~/proj/milligrad/.venv/lib/python3.12/site-packages/matplotlib/axes/_base.py:499\u001b[0m, in \u001b[0;36m_process_plot_var_args._plot_args\u001b[0;34m(self, axes, tup, kwargs, return_kwargs, ambiguous_fmt_datakey)\u001b[0m\n\u001b[1;32m    496\u001b[0m     axes\u001b[38;5;241m.\u001b[39myaxis\u001b[38;5;241m.\u001b[39mupdate_units(y)\n\u001b[1;32m    498\u001b[0m \u001b[38;5;28;01mif\u001b[39;00m x\u001b[38;5;241m.\u001b[39mshape[\u001b[38;5;241m0\u001b[39m] \u001b[38;5;241m!=\u001b[39m y\u001b[38;5;241m.\u001b[39mshape[\u001b[38;5;241m0\u001b[39m]:\n\u001b[0;32m--> 499\u001b[0m     \u001b[38;5;28;01mraise\u001b[39;00m \u001b[38;5;167;01mValueError\u001b[39;00m(\u001b[38;5;124mf\u001b[39m\u001b[38;5;124m\"\u001b[39m\u001b[38;5;124mx and y must have same first dimension, but \u001b[39m\u001b[38;5;124m\"\u001b[39m\n\u001b[1;32m    500\u001b[0m                      \u001b[38;5;124mf\u001b[39m\u001b[38;5;124m\"\u001b[39m\u001b[38;5;124mhave shapes \u001b[39m\u001b[38;5;132;01m{\u001b[39;00mx\u001b[38;5;241m.\u001b[39mshape\u001b[38;5;132;01m}\u001b[39;00m\u001b[38;5;124m and \u001b[39m\u001b[38;5;132;01m{\u001b[39;00my\u001b[38;5;241m.\u001b[39mshape\u001b[38;5;132;01m}\u001b[39;00m\u001b[38;5;124m\"\u001b[39m)\n\u001b[1;32m    501\u001b[0m \u001b[38;5;28;01mif\u001b[39;00m x\u001b[38;5;241m.\u001b[39mndim \u001b[38;5;241m>\u001b[39m \u001b[38;5;241m2\u001b[39m \u001b[38;5;129;01mor\u001b[39;00m y\u001b[38;5;241m.\u001b[39mndim \u001b[38;5;241m>\u001b[39m \u001b[38;5;241m2\u001b[39m:\n\u001b[1;32m    502\u001b[0m     \u001b[38;5;28;01mraise\u001b[39;00m \u001b[38;5;167;01mValueError\u001b[39;00m(\u001b[38;5;124mf\u001b[39m\u001b[38;5;124m\"\u001b[39m\u001b[38;5;124mx and y can be no greater than 2D, but have \u001b[39m\u001b[38;5;124m\"\u001b[39m\n\u001b[1;32m    503\u001b[0m                      \u001b[38;5;124mf\u001b[39m\u001b[38;5;124m\"\u001b[39m\u001b[38;5;124mshapes \u001b[39m\u001b[38;5;132;01m{\u001b[39;00mx\u001b[38;5;241m.\u001b[39mshape\u001b[38;5;132;01m}\u001b[39;00m\u001b[38;5;124m and \u001b[39m\u001b[38;5;132;01m{\u001b[39;00my\u001b[38;5;241m.\u001b[39mshape\u001b[38;5;132;01m}\u001b[39;00m\u001b[38;5;124m\"\u001b[39m)\n",
      "\u001b[0;31mValueError\u001b[0m: x and y must have same first dimension, but have shapes (10,) and (0,)"
     ]
    },
    {
     "data": {
      "image/png": "[encoded data removed]",
      "text/plain": [
       "<Figure size 1200x600 with 1 Axes>"
      ]
     },
     "metadata": {},
     "output_type": "display_data"
    }
   ],
   "source": [
    "from matplotlib import pyplot as plt\n",
    "\n",
    "plt.figure(figsize=(12, 6))\n",
    "plt.plot(range(1, EPOCHS + 1), training_losses, label='Training Loss')\n",
    "plt.plot(range(1, EPOCHS + 1), validation_losses, label='Validation Loss')\n",
    "plt.xlabel('Epochs')\n",
    "plt.ylabel('Loss')\n",
    "plt.legend()\n",
    "plt.title('Training and Validation Loss per Epoch, Training data not shuffled')\n",
    "plt.show()\n"
   ]
  },
  {
   "cell_type": "code",
   "execution_count": null,
   "metadata": {},
   "outputs": [
    {
     "data": {
      "image/png": "[encoded data removed]",
      "text/plain": [
       "<Figure size 1000x600 with 1 Axes>"
      ]
     },
     "metadata": {},
     "output_type": "display_data"
    }
   ],
   "source": [
    "plt.figure(figsize=(10, 6))\n",
    "plt.plot(smoothed_losses, label='Smoothed Loss')\n",
    "iterations_per_epoch = len(smoothed_losses) // EPOCHS\n",
    "\n",
    "for epoch in range(1,EPOCHS+1):\n",
    "    plt.axvline(x=epoch * iterations_per_epoch, color='r', linestyle='--', linewidth=0.7, label='Epoch' if epoch == 1 else \"\")\n",
    "\n",
    "plt.xlabel('Iterations')\n",
    "plt.ylabel('Smoothed Loss')\n",
    "plt.title('Smoothed Loss Over Training Iterations')\n",
    "plt.legend()\n",
    "plt.show()"
   ]
  },
  {
   "cell_type": "code",
   "execution_count": null,
   "metadata": {},
   "outputs": [
    {
     "data": {
      "text/plain": [
       "' the starting to the starting to the starting to the starting to the starting to the starting to the starting to the starting to the starting to the starting to the starting to the starting to the starting to the starting to the starting to the starting to the starting to the starting to the starting to the starting to the starting to the starting to the starting to the starting to the starting to the starting to the starting to the starting to the starting to the starting to the starting to the starting to the starting to the starting to the starting to the starting to the starting to the starting to the starting to the starting to the starting to the starting to the starting to the starting to the starting to the starting to the starting to the starting to the starting to the starting to the starting to the starting to the starting to the starting to the starting to the starting to the starting to the starting to the starting to the starting to the starting to the starting to the sta'"
      ]
     },
     "execution_count": 15,
     "metadata": {},
     "output_type": "execute_result"
    }
   ],
   "source": [
    "generate_deterministic(model, 1000)"
   ]
  },
  {
   "cell_type": "code",
   "execution_count": 14,
   "metadata": {},
   "outputs": [
    {
     "data": {
      "text/plain": [
       "'alraxorne phemenghatly.\\n\"bevorg ithe torlarectionku\\'t quack!n eham,dremelead ngorlf agll,zered bot Mreamerescrock.\\nR gebonertsong suzat\\'s moad.\\nRom Hel lkscensted griDugnt inadcame, he, seinkleat itha'"
      ]
     },
     "execution_count": 14,
     "metadata": {},
     "output_type": "execute_result"
    }
   ],
   "source": [
    "generate_nondeterministic(model, 200, temperature=1.5)"
   ]
  },
  {
   "cell_type": "code",
   "execution_count": 15,
   "metadata": {},
   "outputs": [
    {
     "data": {
      "text/plain": [
       "'ous and he rould his the call the stored had sherent of she was and here the cament and starred herrong and said Harry said Harry sand camered harrs there was a there and her was and he sagring harrs '"
      ]
     },
     "execution_count": 15,
     "metadata": {},
     "output_type": "execute_result"
    }
   ],
   "source": [
    "generate_nondeterministic_nucleous(model, 200, 0.5, 0.9)"
   ]
  },
  {
   "cell_type": "code",
   "execution_count": null,
   "metadata": {},
   "outputs": [],
   "source": []
  }
 ],
 "metadata": {
  "kernelspec": {
   "display_name": ".venv",
   "language": "python",
   "name": "python3"
  },
  "language_info": {
   "codemirror_mode": {
    "name": "ipython",
    "version": 3
   },
   "file_extension": ".py",
   "mimetype": "text/x-python",
   "name": "python",
   "nbconvert_exporter": "python",
   "pygments_lexer": "ipython3",
   "version": "3.12.2"
  }
 },
 "nbformat": 4,
 "nbformat_minor": 2
}
