{
 "cells": [
  {
   "cell_type": "markdown",
   "metadata": {},
   "source": [
    "# Assignment 4"
   ]
  },
  {
   "cell_type": "code",
   "execution_count": null,
   "metadata": {},
   "outputs": [],
   "source": [
    "# autoreload\n",
    "%load_ext autoreload\n",
    "%autoreload 2\n",
    "\n",
    "from milligrad import Tensor\n",
    "import numpy as np\n",
    "\n",
    "np.random.seed(1337)"
   ]
  },
  {
   "cell_type": "markdown",
   "metadata": {},
   "source": [
    "### 0.1 - Read in the data"
   ]
  },
  {
   "cell_type": "code",
   "execution_count": null,
   "metadata": {},
   "outputs": [],
   "source": [
    "# Read in data\n",
    "with open('goblet_book.txt', 'r') as f:\n",
    "    book_data = f.read()\n",
    "\n",
    "# Create mappings\n",
    "BOS, BOS_ID = \"<BOS>\", 0\n",
    "# EOS, EOS_ID = \"<EOS>\", 1\n",
    "\n",
    "chr_to_ids = {BOS: BOS_ID}\n",
    "for c in sorted(set(book_data)): chr_to_ids[c] = len(chr_to_ids)\n",
    "# chr_to_ids = {c: i for i, c in enumerate(sorted(set(book_data)))}\n",
    "ids_to_chr = {i: c for c, i in chr_to_ids.items()}\n",
    "\n",
    "def tokenize(text:str)->list[int]: # cannot tokenize generated text (i.e. those containing <BOS>)\n",
    "    return [chr_to_ids[c] for c in text]\n",
    "\n",
    "def detokenize(tokens:list[int])->str:\n",
    "    return \"\".join([ids_to_chr[ids] for ids in tokens])"
   ]
  },
  {
   "cell_type": "markdown",
   "metadata": {},
   "source": [
    "### 0.2 - Hyperparameters"
   ]
  },
  {
   "cell_type": "code",
   "execution_count": null,
   "metadata": {},
   "outputs": [],
   "source": [
    "INPUT_DIM = len(chr_to_ids)\n",
    "HIDDEN_DIM = 100\n",
    "BATCH_SIZE = 64\n",
    "SEQ_LEN = 25\n",
    "ETA = 0.1"
   ]
  },
  {
   "cell_type": "markdown",
   "metadata": {},
   "source": [
    "### 0.3 and 0.4 - Initialize RNN and implement forward pass (backward pass handled by the autograd)"
   ]
  },
  {
   "cell_type": "code",
   "execution_count": null,
   "metadata": {},
   "outputs": [],
   "source": [
    "class RNN:\n",
    "    def __init__(self, input_dim:int, hidden_dim:int):\n",
    "        self.input_dim, self.hidden_dim = input_dim, hidden_dim\n",
    "        self.wi = Tensor.xavier(input_dim, hidden_dim)\n",
    "        self.wh = Tensor.xavier(hidden_dim, hidden_dim)\n",
    "        self.bh = Tensor.zeros(hidden_dim)\n",
    "\n",
    "        self.wo = Tensor.xavier(hidden_dim, input_dim)\n",
    "        self.bo = Tensor.zeros(input_dim)\n",
    "\n",
    "    def __call__(self, x:Tensor, h:Tensor=None)->Tensor:\n",
    "        B, L, _ = x.shape\n",
    "\n",
    "        if h is None: h = Tensor.zeros(B, self.hidden_dim)\n",
    "\n",
    "        outputs = []\n",
    "        for i in range(L):\n",
    "            h = (x[:,i,:] @ self.wi + h @ self.wh + self.bh).tanh()\n",
    "            outputs.append(h)\n",
    "\n",
    "        stacked_outputs = Tensor.stack(outputs, axis=1)\n",
    "        return stacked_outputs @ self.wo + self.bo, h\n",
    "    \n",
    "    def parameters(self)->list[Tensor]:\n",
    "        return [self.wi, self.wh, self.bh, self.wo, self.bo]\n",
    "    \n",
    "model = RNN(INPUT_DIM, HIDDEN_DIM)\n",
    "out, h = model(Tensor.randn(32, 4, INPUT_DIM)) # smaller seq to view the backpropagation graph\n",
    "out.shape"
   ]
  },
  {
   "cell_type": "markdown",
   "metadata": {},
   "source": [
    "### 0.5 - Verify gradients\n",
    "\n",
    "I will assume that my architecture is correct and simply verify the gradient calculations by comparing to a pytorch implementation with the same weights."
   ]
  },
  {
   "cell_type": "code",
   "execution_count": null,
   "metadata": {},
   "outputs": [],
   "source": [
    "import torch\n",
    "import torch.nn as nn\n",
    "import torch.nn.functional as F\n",
    "\n",
    "class TorchRNN(nn.Module):\n",
    "    def __init__(self, input_dim: int, hidden_dim: int):\n",
    "        super(TorchRNN, self).__init__()\n",
    "        self.input_dim = input_dim\n",
    "        self.hidden_dim = hidden_dim\n",
    "\n",
    "        self.wi = nn.Parameter(torch.nn.init.xavier_normal_(torch.empty(input_dim, hidden_dim)))\n",
    "        self.wh = nn.Parameter(torch.nn.init.xavier_normal_(torch.empty(hidden_dim, hidden_dim)))\n",
    "        self.bh = nn.Parameter(torch.zeros(hidden_dim))\n",
    "\n",
    "        self.wo = nn.Parameter(torch.nn.init.xavier_normal_(torch.empty(hidden_dim, input_dim)))\n",
    "        self.bo = nn.Parameter(torch.zeros(input_dim))\n",
    "\n",
    "    def forward(self, x, h=None):\n",
    "        B, L, _ = x.shape\n",
    "\n",
    "        if h is None:\n",
    "            h = torch.zeros(B, self.hidden_dim)\n",
    "\n",
    "        outputs = []\n",
    "        for i in range(L):\n",
    "            h = torch.tanh(x[:, i,:] @ self.wi + h @ self.wh + self.bh)\n",
    "            outputs.append(h)\n",
    "\n",
    "        stacked_outputs = torch.stack(outputs, dim=1)\n",
    "        return stacked_outputs @ self.wo + self.bo, h\n",
    "\n",
    "    def copy_weights_from(self, original_rnn):\n",
    "        with torch.no_grad():\n",
    "            self.wi.copy_(torch.from_numpy(original_rnn.wi.data).clone().detach())\n",
    "            self.wh.copy_(torch.from_numpy(original_rnn.wh.data).clone().detach())\n",
    "            self.bh.copy_(torch.from_numpy(original_rnn.bh.data).clone().detach())\n",
    "            self.wo.copy_(torch.from_numpy(original_rnn.wo.data).clone().detach())\n",
    "            self.bo.copy_(torch.from_numpy(original_rnn.bo.data).clone().detach())\n"
   ]
  },
  {
   "cell_type": "code",
   "execution_count": null,
   "metadata": {},
   "outputs": [],
   "source": [
    "milli_model = RNN(INPUT_DIM, HIDDEN_DIM)\n",
    "torch_model = TorchRNN(INPUT_DIM, HIDDEN_DIM)\n",
    "torch_model.copy_weights_from(milli_model)\n",
    "\n",
    "x_np = np.random.randn(BATCH_SIZE, SEQ_LEN, INPUT_DIM).astype(np.float32)\n",
    "h_np = np.random.randn(BATCH_SIZE, HIDDEN_DIM).astype(np.float32)\n",
    "\n",
    "milli_out, _ = milli_model(Tensor(x_np), Tensor(h_np))\n",
    "torch_out, _ = torch_model(torch.from_numpy(x_np), torch.from_numpy(h_np))\n",
    "\n",
    "np.testing.assert_allclose(\n",
    "    milli_out.data, torch_out.detach().numpy(),\n",
    "    atol=1e-5\n",
    ")\n",
    "\n",
    "milli_out.sum().backward()\n",
    "torch_out.sum().backward()\n",
    "\n",
    "np.testing.assert_allclose(\n",
    "    milli_model.wi.grad, torch_model.wi.grad.detach().numpy(),\n",
    "    atol=3e-4\n",
    ")"
   ]
  },
  {
   "cell_type": "markdown",
   "metadata": {},
   "source": [
    "### 0.6 - Gradient clipping"
   ]
  },
  {
   "cell_type": "code",
   "execution_count": null,
   "metadata": {},
   "outputs": [],
   "source": [
    "def clip_gradient(parameters:list[Tensor]):\n",
    "    for p in parameters:\n",
    "        p.grad = np.clip(p.grad, -5, 5)\n"
   ]
  },
  {
   "cell_type": "markdown",
   "metadata": {},
   "source": [
    "### 0.7 - Implement AdaGrad optimizer"
   ]
  },
  {
   "cell_type": "code",
   "execution_count": null,
   "metadata": {},
   "outputs": [],
   "source": [
    "class AdaGrad:\n",
    "    def __init__(self, params:list[Tensor], lr:float=0.01, epsilon:float=1e-8):\n",
    "        self.params = params\n",
    "        self.lr = lr\n",
    "        self.epsilon = epsilon\n",
    "        self.cache = [np.zeros_like(p.data) for p in self.params]\n",
    "\n",
    "    def step(self):\n",
    "        for i, p in enumerate(self.params):\n",
    "            self.cache[i] += p.grad ** 2\n",
    "            p.data -= self.lr * p.grad / (np.sqrt(self.cache[i]) + self.epsilon)\n",
    "\n",
    "    def zero_grad(self):\n",
    "        for p in self.params: p.grad = np.zeros_like(p.grad)\n",
    "               "
   ]
  },
  {
   "cell_type": "markdown",
   "metadata": {},
   "source": [
    "### 0.8 - Implement text synthesis"
   ]
  },
  {
   "cell_type": "code",
   "execution_count": null,
   "metadata": {},
   "outputs": [],
   "source": [
    "def generate_deterministic(model, max_length=1000)->str:\n",
    "    h = Tensor.zeros(1, HIDDEN_DIM) # batch size is 1\n",
    "    tokens = [BOS_ID]\n",
    "    for _ in range(max_length):\n",
    "        ohe = np.eye(len(chr_to_ids))[tokens[-1]]\n",
    "        x = Tensor(ohe.reshape(1,1,-1)) # batch size 1, \"seq_len\" 1\n",
    "        out, h = model(x, h)\n",
    "        token = out.data.squeeze().argmax()\n",
    "\n",
    "        tokens.append(token)\n",
    "\n",
    "    return detokenize(tokens[1:])\n",
    "\n",
    "def generate_nondeterministic(model, max_length=1000, temperature:float=1.0)->str:\n",
    "    h = Tensor.zeros(1, HIDDEN_DIM) # batch size is 1\n",
    "    tokens = [BOS_ID]\n",
    "    for _ in range(max_length):\n",
    "        ohe = np.eye(len(chr_to_ids))[tokens[-1]]\n",
    "        x = Tensor(ohe.reshape(1,1,-1)) # batch size 1, \"seq_len\" 1\n",
    "        out, h = model(x, h)\n",
    "        p = (out / temperature).softmax()\n",
    "        token = np.random.choice(range(len(chr_to_ids)), p=p.data.flatten())\n",
    "\n",
    "        tokens.append(token)\n",
    "\n",
    "    return detokenize(tokens[1:])\n",
    "\n",
    "def generate_nondeterministic_nucleous(model, max_length=1000, temperature:float=1.0, nucleus_threshold:float=0.9)->str:\n",
    "    h = Tensor.zeros(1, HIDDEN_DIM)  # batch size is 1\n",
    "    tokens = [BOS_ID]\n",
    "    \n",
    "    for _ in range(max_length):\n",
    "        ohe = np.eye(len(chr_to_ids))[tokens[-1]]\n",
    "        x = Tensor(ohe.reshape(1, 1, -1))  # batch size 1, \"seq_len\" 1\n",
    "        out, h = model(x, h)\n",
    "        p = (out / temperature).softmax()\n",
    "        p_data = p.data.flatten()\n",
    "\n",
    "        # Nucleus sampling\n",
    "        sorted_indices = np.argsort(p_data)[::-1]\n",
    "        cumulative_probs = np.cumsum(p_data[sorted_indices])\n",
    "        cutoff = np.searchsorted(cumulative_probs, nucleus_threshold)\n",
    "        top_indices = sorted_indices[:cutoff + 1]\n",
    "        \n",
    "        p_top = p_data[top_indices]\n",
    "        p_top /= p_top.sum()  # Normalize to form a probability distribution\n",
    "        \n",
    "        token = np.random.choice(top_indices, p=p_top)\n",
    "        tokens.append(token)\n",
    "    \n",
    "    return detokenize(tokens[1:])\n",
    "        \n",
    "generate_deterministic(model, 10), generate_nondeterministic(model, 10, 0.5), generate_nondeterministic_nucleous(model, 10, 0.5, 0.9)"
   ]
  },
  {
   "cell_type": "markdown",
   "metadata": {},
   "source": [
    "### 0.9 - Implement training loop"
   ]
  },
  {
   "cell_type": "code",
   "execution_count": null,
   "metadata": {},
   "outputs": [],
   "source": [
    "train_ratio = 0.8\n",
    "val_ratio = 0.1\n",
    "test_ratio = 0.1\n",
    "\n",
    "# Calculate split indices\n",
    "data_size = len(book_data)\n",
    "train_size = int(data_size * train_ratio)\n",
    "val_size = int(data_size * val_ratio)\n",
    "\n",
    "# Split the book_data\n",
    "train_data = book_data[:train_size]\n",
    "val_data = book_data[train_size:train_size + val_size]\n",
    "test_data = book_data[train_size + val_size:]"
   ]
  },
  {
   "cell_type": "code",
   "execution_count": null,
   "metadata": {},
   "outputs": [],
   "source": [
    "            \n",
    "def dataloader(data, batch_size, seq_length, shuffle=False):\n",
    "    data_size = len(data)\n",
    "    num_batches = data_size // (seq_length * batch_size)\n",
    "    \n",
    "    ohe_matrix = np.eye(len(chr_to_ids))\n",
    "\n",
    "    trimmed_data = data[:num_batches * seq_length * batch_size]\n",
    "    ohe_data = ohe_matrix[tokenize(trimmed_data)]\n",
    "\n",
    "    BOS_OHE = ohe_matrix[[BOS_ID] * batch_size].reshape(batch_size, 1, -1)\n",
    "    \n",
    "    # Reshape into batches\n",
    "    ohe_data = ohe_data.reshape((num_batches * batch_size, seq_length, len(chr_to_ids)))\n",
    "    \n",
    "    if shuffle: np.random.shuffle(ohe_data)\n",
    "    for i in range(num_batches):\n",
    "        x = ohe_data[i * batch_size: (i + 1) * batch_size]\n",
    "        y = ohe_data[i * batch_size: (i + 1) * batch_size]\n",
    "        \n",
    "        # Append/Prepend BOS and EOS tokens\n",
    "        x = np.concatenate([BOS_OHE, x], axis=1)[:,:-1] # drop last token\n",
    "        \n",
    "        yield x, y"
   ]
  },
  {
   "cell_type": "code",
   "execution_count": null,
   "metadata": {},
   "outputs": [],
   "source": [
    "import math\n",
    "from tqdm import tqdm\n",
    "\n",
    "from milligrad.optim import Adam\n",
    "\n",
    "EPOCHS = 10\n",
    "\n",
    "model = RNN(INPUT_DIM, HIDDEN_DIM)\n",
    "optim = Adam(model.parameters(), lr=1e-2)\n",
    "\n",
    "smoothed_loss = -math.log(1/len(chr_to_ids)) * SEQ_LEN # start the loss as the expected value of random guesses\n",
    "\n",
    "smoothed_losses = []\n",
    "training_losses = []\n",
    "validation_losses = []\n",
    "sampled_text_deterministic = []\n",
    "sampled_text_nondeterministic = []\n",
    "\n",
    "# Training loop\n",
    "for epoch in range(EPOCHS):\n",
    "    train_tqdm = tqdm(dataloader(train_data, BATCH_SIZE, SEQ_LEN, shuffle=True), desc=f\"Epoch {epoch+1}/{EPOCHS}\", total=len(train_data) // (SEQ_LEN * BATCH_SIZE))\n",
    "    epoch_loss = 0\n",
    "    \n",
    "    for x, y in train_tqdm:\n",
    "        x = Tensor(x)\n",
    "        y = Tensor(y)\n",
    "\n",
    "        y_hat, _ = model(x)\n",
    "\n",
    "        loss = -(y * y_hat.log_softmax()).sum(-1).sum(-1).mean()  # sum over vocab and sequence, mean over batch\n",
    "\n",
    "        epoch_loss += loss.data\n",
    "        \n",
    "        smoothed_loss = 0.999 * smoothed_loss + 0.001 * loss.data\n",
    "        smoothed_losses.append(smoothed_loss)\n",
    "        train_tqdm.set_postfix({\"smoothed_loss\": smoothed_loss})\n",
    "\n",
    "        optim.zero_grad()\n",
    "        loss.backward()\n",
    "        clip_gradient(model.parameters())\n",
    "        optim.step()\n",
    "    \n",
    "    # Log the training loss for the epoch\n",
    "    avg_epoch_loss = epoch_loss / (len(train_data) // (SEQ_LEN * BATCH_SIZE))\n",
    "    training_losses.append(avg_epoch_loss)\n",
    "\n",
    "    # Calculate validation loss\n",
    "    val_loss = 0\n",
    "    val_batches = len(val_data) // (SEQ_LEN * BATCH_SIZE)\n",
    "    for x, y in dataloader(val_data, BATCH_SIZE, SEQ_LEN, shuffle=False):\n",
    "        x = Tensor(x)\n",
    "        y = Tensor(y)\n",
    "\n",
    "        y_hat, _ = model(x)\n",
    "        loss = -(y * y_hat.log_softmax()).sum(-1).sum(-1).mean()  # sum over vocab and sequence, mean over batch\n",
    "        val_loss += loss.data\n",
    "\n",
    "    avg_val_loss = val_loss / val_batches\n",
    "    validation_losses.append(avg_val_loss)\n",
    "\n",
    "    # Synthesize text every epoch (or adjust the frequency as needed)\n",
    "    deterministic_text = generate_deterministic(model, max_length=200)\n",
    "    nondeterministic_text = generate_nondeterministic(model, max_length=200, temperature=1.0)\n",
    "    sampled_text_deterministic.append(deterministic_text)\n",
    "    sampled_text_nondeterministic.append(nondeterministic_text)\n",
    "    \n",
    "    print(f\"Deterministic Sample Text after epoch {epoch+1}:\\n{deterministic_text}\")\n",
    "    print(f\"Nondeterministic Sample Text after epoch {epoch+1}:\\n{nondeterministic_text}\")\n",
    "\n"
   ]
  },
  {
   "cell_type": "code",
   "execution_count": null,
   "metadata": {},
   "outputs": [],
   "source": [
    "from matplotlib import pyplot as plt\n",
    "\n",
    "plt.figure(figsize=(12, 6))\n",
    "plt.plot(range(1, EPOCHS + 1), training_losses, label='Training Loss')\n",
    "plt.plot(range(1, EPOCHS + 1), validation_losses, label='Validation Loss')\n",
    "plt.xlabel('Epochs')\n",
    "plt.ylabel('Loss')\n",
    "plt.legend()\n",
    "plt.title('Training and Validation Loss per Epoch, Training data not shuffled')\n",
    "plt.show()\n"
   ]
  },
  {
   "cell_type": "code",
   "execution_count": null,
   "metadata": {},
   "outputs": [],
   "source": [
    "plt.figure(figsize=(10, 6))\n",
    "plt.plot(smoothed_losses, label='Smoothed Loss')\n",
    "iterations_per_epoch = len(smoothed_losses) // EPOCHS\n",
    "\n",
    "for epoch in range(1,EPOCHS+1):\n",
    "    plt.axvline(x=epoch * iterations_per_epoch, color='r', linestyle='--', linewidth=0.7, label='Epoch' if epoch == 1 else \"\")\n",
    "\n",
    "plt.xlabel('Iterations')\n",
    "plt.ylabel('Smoothed Loss')\n",
    "plt.title('Smoothed Loss Over Training Iterations')\n",
    "plt.legend()\n",
    "plt.show()"
   ]
  },
  {
   "cell_type": "code",
   "execution_count": null,
   "metadata": {},
   "outputs": [],
   "source": [
    "generate_deterministic(model, 1000)"
   ]
  },
  {
   "cell_type": "code",
   "execution_count": null,
   "metadata": {},
   "outputs": [],
   "source": [
    "generate_nondeterministic(model, 200, temperature=1.5)"
   ]
  },
  {
   "cell_type": "code",
   "execution_count": null,
   "metadata": {},
   "outputs": [],
   "source": [
    "generate_nondeterministic_nucleous(model, 200, 0.5, 0.9)"
   ]
  }
 ],
 "metadata": {
  "kernelspec": {
   "display_name": ".venv",
   "language": "python",
   "name": "python3"
  },
  "language_info": {
   "codemirror_mode": {
    "name": "ipython",
    "version": 3
   },
   "file_extension": ".py",
   "mimetype": "text/x-python",
   "name": "python",
   "nbconvert_exporter": "python",
   "pygments_lexer": "ipython3",
   "version": "3.12.2"
  }
 },
 "nbformat": 4,
 "nbformat_minor": 2
}
