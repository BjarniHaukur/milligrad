{
 "cells": [
  {
   "cell_type": "code",
   "execution_count": 1,
   "metadata": {},
   "outputs": [
    {
     "name": "stdout",
     "output_type": "stream",
     "text": [
      "biwk,iko->bow or (16, 3, 91, 10),(3, 10, 5)->(16, 5, 91)\n"
     ]
    }
   ],
   "source": [
    "import numpy as np\n",
    "from milligrad import Tensor\n",
    "\n",
    "# Conv1D\n",
    "B, C_in, W_in = 16, 3, 100\n",
    "K, C_out = 10, 5\n",
    "W_out = W_in - K + 1 + 2*0\n",
    "\n",
    "x = np.random.randn(B, C_in, W_in)\n",
    "kernel = np.random.randn(C_in, K, C_out)\n",
    "\n",
    "# create a view of the input tensor with the sliding window dimensions\n",
    "strided = np.lib.stride_tricks.as_strided(x,\n",
    "    shape=(B, C_in, W_out, K),\n",
    "    strides=x.strides + (x.strides[-1],) # configures array traversal: adding a stride to the last dimension to slide the window\n",
    ")\n",
    "\n",
    "\n",
    "\n",
    "out = np.einsum(\"biwk,iko->bow\", strided, kernel, optimize=True)\n",
    "\n",
    "print(\"biwk,iko->bow\", \"or\", f\"{strided.shape},{kernel.shape}->{out.shape}\")"
   ]
  },
  {
   "cell_type": "code",
   "execution_count": 2,
   "metadata": {},
   "outputs": [],
   "source": [
    "B, C_in, W_in = 128, 3, 100\n",
    "K, C_out = 3, 32\n",
    "W_out = W_in - K + 1 + 2*0"
   ]
  },
  {
   "cell_type": "code",
   "execution_count": 3,
   "metadata": {},
   "outputs": [
    {
     "name": "stdout",
     "output_type": "stream",
     "text": [
      "7.38 ms ± 1.07 ms per loop (mean ± std. dev. of 10 runs, 10 loops each)\n"
     ]
    }
   ],
   "source": [
    "%%timeit -n 10 -r 10\n",
    "x = np.random.randn(B, C_in, W_in)\n",
    "kernel = np.random.randn(C_in, K, C_out)\n",
    "strided = np.lib.stride_tricks.as_strided(x,\n",
    "    shape=(B, C_in, W_out, K),\n",
    "    strides=x.strides + (x.strides[-1],) # configures array traversal: adding a stride to the last dimension to slide the window\n",
    ")\n",
    "out = np.einsum(\"biwk,iko->bow\", strided, kernel, optimize=False)\n"
   ]
  },
  {
   "cell_type": "code",
   "execution_count": 4,
   "metadata": {},
   "outputs": [
    {
     "name": "stdout",
     "output_type": "stream",
     "text": [
      "3.75 ms ± 1.01 ms per loop (mean ± std. dev. of 10 runs, 10 loops each)\n"
     ]
    }
   ],
   "source": [
    "%%timeit -n 10 -r 10\n",
    "x = np.random.randn(B, C_in, W_in)\n",
    "kernel = np.random.randn(C_in, K, C_out)\n",
    "strided = np.lib.stride_tricks.as_strided(x,\n",
    "    shape=(B, C_in, W_out, K),\n",
    "    strides=x.strides + (x.strides[-1],) # configures array traversal: adding a stride to the last dimension to slide the window\n",
    ")\n",
    "out = np.einsum(\"biwk,iko->bow\", strided, kernel, optimize=True)"
   ]
  },
  {
   "cell_type": "markdown",
   "metadata": {},
   "source": [
    "optimize=True gives better results the larger the input is"
   ]
  },
  {
   "cell_type": "code",
   "execution_count": 5,
   "metadata": {},
   "outputs": [],
   "source": [
    "B, C_in, W_in = 128, 3, 1000 # 10 times larger\n",
    "K, C_out = 3, 32\n",
    "W_out = W_in - K + 1 + 2*0"
   ]
  },
  {
   "cell_type": "code",
   "execution_count": 6,
   "metadata": {},
   "outputs": [
    {
     "name": "stdout",
     "output_type": "stream",
     "text": [
      "70.9 ms ± 3.28 ms per loop (mean ± std. dev. of 10 runs, 10 loops each)\n"
     ]
    }
   ],
   "source": [
    "%%timeit -n 10 -r 10\n",
    "x = np.random.randn(B, C_in, W_in)\n",
    "kernel = np.random.randn(C_in, K, C_out)\n",
    "strided = np.lib.stride_tricks.as_strided(x,\n",
    "    shape=(B, C_in, W_out, K),\n",
    "    strides=x.strides + (x.strides[-1],) # configures array traversal: adding a stride to the last dimension to slide the window\n",
    ")\n",
    "out = np.einsum(\"biwk,iko->bow\", strided, kernel, optimize=False)\n"
   ]
  },
  {
   "cell_type": "code",
   "execution_count": 7,
   "metadata": {},
   "outputs": [
    {
     "name": "stdout",
     "output_type": "stream",
     "text": [
      "28.5 ms ± 1.78 ms per loop (mean ± std. dev. of 10 runs, 10 loops each)\n"
     ]
    }
   ],
   "source": [
    "%%timeit -n 10 -r 10\n",
    "x = np.random.randn(B, C_in, W_in)\n",
    "kernel = np.random.randn(C_in, K, C_out)\n",
    "strided = np.lib.stride_tricks.as_strided(x,\n",
    "    shape=(B, C_in, W_out, K),\n",
    "    strides=x.strides + (x.strides[-1],) # configures array traversal: adding a stride to the last dimension to slide the window\n",
    ")\n",
    "out = np.einsum(\"biwk,iko->bow\", strided, kernel, optimize=True)\n"
   ]
  },
  {
   "cell_type": "code",
   "execution_count": 8,
   "metadata": {},
   "outputs": [
    {
     "name": "stdout",
     "output_type": "stream",
     "text": [
      "bihwkl,iklo->bowh or (32, 3, 81, 81, 10, 10),(3, 10, 10, 4)->(32, 4, 81, 81)\n"
     ]
    }
   ],
   "source": [
    "# Conv2D\n",
    "B, C_in, H_in, W_in = 32, 3, 90, 90\n",
    "K, C_out = 10, 4\n",
    "H_out, W_out = H_in - K + 1 + 2*0, W_in - K + 1 + 2*0\n",
    "\n",
    "x = np.random.randn(B, C_in, H_in, W_in)\n",
    "kernel = np.random.randn(C_in, K, K, C_out)\n",
    "\n",
    "# create a view of the input tensor with the sliding window dimensions\n",
    "*orig_strides, s2, s3 = x.strides\n",
    "strided = np.lib.stride_tricks.as_strided(\n",
    "    x,\n",
    "    shape=(B, C_in, H_out, W_out, K, K),\n",
    "    strides=(*orig_strides, s2, s3, s2, s3) # configures array traversal: twice s2 and s3 to select a 2D sliding window\n",
    ")\n",
    "\n",
    "out = np.einsum(\"bihwkl,iklo->bowh\", strided, kernel, optimize=True)\n",
    "print(\"bihwkl,iklo->bowh\", \"or\", f\"{strided.shape},{kernel.shape}->{out.shape}\")"
   ]
  }
 ],
 "metadata": {
  "kernelspec": {
   "display_name": ".venv",
   "language": "python",
   "name": "python3"
  },
  "language_info": {
   "codemirror_mode": {
    "name": "ipython",
    "version": 3
   },
   "file_extension": ".py",
   "mimetype": "text/x-python",
   "name": "python",
   "nbconvert_exporter": "python",
   "pygments_lexer": "ipython3",
   "version": "3.12.2"
  }
 },
 "nbformat": 4,
 "nbformat_minor": 2
}
