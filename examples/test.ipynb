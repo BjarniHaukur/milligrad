{
 "cells": [
  {
   "cell_type": "code",
   "execution_count": 1,
   "metadata": {},
   "outputs": [],
   "source": [
    "# autoreload\n",
    "%load_ext autoreload\n",
    "%autoreload 2\n",
    "\n",
    "import os\n",
    "if not \"milligrad\" in os.listdir():\n",
    "    os.chdir('..')\n",
    "\n",
    "from milligrad import Tensor, Module, GD, topological_sort\n",
    "\n",
    "from matplotlib import pyplot as plt"
   ]
  },
  {
   "cell_type": "code",
   "execution_count": 2,
   "metadata": {},
   "outputs": [],
   "source": [
    "class MLP(Module):\n",
    "    def __init__(self):\n",
    "        self.w1 = Tensor.xavier(3, 20)\n",
    "        self.w2 = Tensor.xavier(20, 2)\n",
    "        self.b1 = Tensor.randn(20)\n",
    "        self.b2 = Tensor.randn(2)\n",
    "        \n",
    "    def __call__(self, x):\n",
    "        x = (x @ self.w1 + self.b1).relu()\n",
    "        return (x @ self.w2 + self.b2).tanh()\n",
    "    \n",
    "    def parameters(self) -> list[Tensor]:\n",
    "        return [self.w1, self.w2, self.b1, self.b2]"
   ]
  },
  {
   "cell_type": "code",
   "execution_count": 3,
   "metadata": {},
   "outputs": [
    {
     "data": {
      "text/plain": [
       "['relu', '+', '@', 'input', 'weight', 'bias']"
      ]
     },
     "execution_count": 3,
     "metadata": {},
     "output_type": "execute_result"
    }
   ],
   "source": [
    "\n",
    "\n",
    "b = Tensor.randn(3, name=\"bias\")\n",
    "w = Tensor.randn(2, 3, name=\"weight\")\n",
    "x = Tensor.randn(5, 2, name=\"input\")\n",
    "y = (x @ w + b).relu()\n",
    "\n",
    "# operations are recorded to perform backpropagation\n",
    "# the order below is the order in which we bacpropagate\n",
    "sorted_tensors = reversed(topological_sort(y))\n",
    "[x.name for x in sorted_tensors if x.name] # \"\" is falsy"
   ]
  },
  {
   "cell_type": "code",
   "execution_count": null,
   "metadata": {},
   "outputs": [],
   "source": [
    "from milligrad import Adam\n",
    "\n",
    "x = Tensor.randn(20, 3)\n",
    "y = Tensor.ones(20, 2)\n",
    "\n",
    "model = MLP()\n",
    "optim = Adam(model.parameters(), lr=1e-3)\n",
    "\n",
    "losses = []\n",
    "for i in range(1000):\n",
    "    y_hat = model(x)\n",
    "    loss = ((y - y_hat)**2).sum().sum()\n",
    "    \n",
    "    optim.zero_grad()\n",
    "    loss.backward()\n",
    "    optim.step()\n",
    "        \n",
    "    losses.append(loss.data)"
   ]
  },
  {
   "cell_type": "code",
   "execution_count": null,
   "metadata": {},
   "outputs": [
    {
     "data": {
      "text/plain": [
       "[<matplotlib.lines.Line2D at 0x10d362f60>]"
      ]
     },
     "execution_count": 12,
     "metadata": {},
     "output_type": "execute_result"
    },
    {
     "data": {
      "image/png": "[encoded data removed]",
      "text/plain": [
       "<Figure size 640x480 with 1 Axes>"
      ]
     },
     "metadata": {},
     "output_type": "display_data"
    }
   ],
   "source": [
    "plt.plot(losses)"
   ]
  },
  {
   "cell_type": "code",
   "execution_count": null,
   "metadata": {},
   "outputs": [
    {
     "data": {
      "text/plain": [
       "array([[0.99510088, 0.99516665],\n",
       "       [0.9986983 , 0.99835706],\n",
       "       [0.99846159, 0.99423783],\n",
       "       [0.99776659, 0.99260626],\n",
       "       [0.99637238, 0.99346186],\n",
       "       [0.98807631, 0.98123985],\n",
       "       [0.99247664, 0.9901607 ],\n",
       "       [0.99248308, 0.99597128],\n",
       "       [0.99958865, 0.9981115 ],\n",
       "       [0.99616041, 0.9942491 ],\n",
       "       [0.99442878, 0.99388627],\n",
       "       [0.9980566 , 0.99809284],\n",
       "       [0.99441371, 0.99706009],\n",
       "       [0.99661998, 0.99172219],\n",
       "       [0.99032187, 0.99371566],\n",
       "       [0.99151744, 0.98801355],\n",
       "       [0.9953634 , 0.99320882],\n",
       "       [0.9963637 , 0.99731971],\n",
       "       [0.99938869, 0.99700708],\n",
       "       [0.99635127, 0.99534437]])"
      ]
     },
     "execution_count": 13,
     "metadata": {},
     "output_type": "execute_result"
    }
   ],
   "source": [
    "y_hat"
   ]
  },
  {
   "cell_type": "code",
   "execution_count": null,
   "metadata": {},
   "outputs": [
    {
     "ename": "AssertionError",
     "evalue": "No gradient tracking when in no_grad mode",
     "output_type": "error",
     "traceback": [
      "\u001b[0;31m---------------------------------------------------------------------------\u001b[0m",
      "\u001b[0;31mAssertionError\u001b[0m                            Traceback (most recent call last)",
      "Cell \u001b[0;32mIn[14], line 4\u001b[0m\n\u001b[1;32m      2\u001b[0m \u001b[38;5;28;01mwith\u001b[39;00m Tensor\u001b[38;5;241m.\u001b[39mno_grad():\n\u001b[1;32m      3\u001b[0m     y_hat \u001b[38;5;241m=\u001b[39m model(x)\n\u001b[0;32m----> 4\u001b[0m     \u001b[43my_hat\u001b[49m\u001b[38;5;241;43m.\u001b[39;49m\u001b[43mbackward\u001b[49m\u001b[43m(\u001b[49m\u001b[43m)\u001b[49m\n",
      "File \u001b[0;32m~/Documents/Projects/milligrad/milligrad/tensor.py:51\u001b[0m, in \u001b[0;36mTensor.backward\u001b[0;34m(self)\u001b[0m\n\u001b[1;32m     50\u001b[0m \u001b[38;5;28;01mdef\u001b[39;00m \u001b[38;5;21mbackward\u001b[39m(\u001b[38;5;28mself\u001b[39m):\n\u001b[0;32m---> 51\u001b[0m     \u001b[38;5;28;01massert\u001b[39;00m \u001b[38;5;129;01mnot\u001b[39;00m Tensor\u001b[38;5;241m.\u001b[39m_no_grad, \u001b[38;5;124m\"\u001b[39m\u001b[38;5;124mNo gradient tracking when in no_grad mode\u001b[39m\u001b[38;5;124m\"\u001b[39m\n\u001b[1;32m     52\u001b[0m     \u001b[38;5;28mself\u001b[39m\u001b[38;5;241m.\u001b[39mgrad \u001b[38;5;241m=\u001b[39m np\u001b[38;5;241m.\u001b[39mones_like(\u001b[38;5;28mself\u001b[39m\u001b[38;5;241m.\u001b[39mdata) \u001b[38;5;66;03m# dL/dL = 1\u001b[39;00m\n\u001b[1;32m     54\u001b[0m     \u001b[38;5;28;01mfor\u001b[39;00m tensor \u001b[38;5;129;01min\u001b[39;00m \u001b[38;5;28mreversed\u001b[39m(topological_sort(\u001b[38;5;28mself\u001b[39m)):\n\u001b[1;32m     55\u001b[0m         \u001b[38;5;66;03m# the _backward functions keep copies of their data in the closure\u001b[39;00m\n",
      "\u001b[0;31mAssertionError\u001b[0m: No gradient tracking when in no_grad mode"
     ]
    }
   ],
   "source": [
    "# example of using no_grad\n",
    "with Tensor.no_grad():\n",
    "    y_hat = model(x)\n",
    "    y_hat.backward()"
   ]
  }
 ],
 "metadata": {
  "kernelspec": {
   "display_name": "adv",
   "language": "python",
   "name": "python3"
  },
  "language_info": {
   "codemirror_mode": {
    "name": "ipython",
    "version": 3
   },
   "file_extension": ".py",
   "mimetype": "text/x-python",
   "name": "python",
   "nbconvert_exporter": "python",
   "pygments_lexer": "ipython3",
   "version": "3.12.2"
  }
 },
 "nbformat": 4,
 "nbformat_minor": 2
}
