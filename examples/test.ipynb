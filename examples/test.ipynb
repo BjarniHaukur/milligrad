{
 "cells": [
  {
   "cell_type": "code",
   "execution_count": 1,
   "metadata": {},
   "outputs": [],
   "source": [
    "# autoreload\n",
    "%load_ext autoreload\n",
    "%autoreload 2\n",
    "\n",
    "import os\n",
    "if not \"milligrad\" in os.listdir():\n",
    "    os.chdir('..')\n",
    "\n",
    "from milligrad import Tensor, Module, GD, topological_sort\n",
    "\n",
    "from matplotlib import pyplot as plt"
   ]
  },
  {
   "cell_type": "code",
   "execution_count": 2,
   "metadata": {},
   "outputs": [],
   "source": [
    "class MLP(Module):\n",
    "    def __init__(self):\n",
    "        self.w1 = Tensor.xavier(3, 20)\n",
    "        self.w2 = Tensor.xavier(20, 2)\n",
    "        self.b1 = Tensor.randn(20)\n",
    "        self.b2 = Tensor.randn(2)\n",
    "        \n",
    "    def __call__(self, x):\n",
    "        x = (x @ self.w1 + self.b1).relu()\n",
    "        return (x @ self.w2 + self.b2)\n",
    "    \n",
    "    def parameters(self) -> list[Tensor]:\n",
    "        return [self.w1, self.w2, self.b1, self.b2]"
   ]
  },
  {
   "cell_type": "code",
   "execution_count": 3,
   "metadata": {},
   "outputs": [
    {
     "data": {
      "text/plain": [
       "['relu', '+', '@']"
      ]
     },
     "execution_count": 3,
     "metadata": {},
     "output_type": "execute_result"
    }
   ],
   "source": [
    "\n",
    "\n",
    "b = Tensor.randn(3)\n",
    "w = Tensor.randn(2, 3)\n",
    "x = Tensor.randn(5, 2)\n",
    "y = (x @ w + b).relu()\n",
    "\n",
    "# operations are recorded to perform backpropagation\n",
    "# the order below is the order in which we bacpropagate\n",
    "sorted_tensors = reversed(topological_sort(y))\n",
    "[x._grad_fn for x in sorted_tensors if x._grad_fn] # \"\" is falsy"
   ]
  },
  {
   "cell_type": "code",
   "execution_count": 12,
   "metadata": {},
   "outputs": [],
   "source": [
    "from milligrad import Adam\n",
    "\n",
    "x = Tensor.randn(20, 3)\n",
    "y = Tensor.ones(20, 2)\n",
    "\n",
    "model = MLP()\n",
    "optim = Adam(model.parameters(), lr=1e-3)\n",
    "\n",
    "losses = []\n",
    "for i in range(10000):\n",
    "    y_hat = model(x)\n",
    "    loss = ((y - y_hat)**2).sum().sum()\n",
    "    \n",
    "    optim.zero_grad()\n",
    "    loss.backward()\n",
    "    optim.step()\n",
    "        \n",
    "    losses.append(loss.data)"
   ]
  },
  {
   "cell_type": "code",
   "execution_count": 5,
   "metadata": {},
   "outputs": [
    {
     "data": {
      "text/plain": [
       "[<matplotlib.lines.Line2D at 0x1177c96d0>]"
      ]
     },
     "execution_count": 5,
     "metadata": {},
     "output_type": "execute_result"
    },
    {
     "data": {
      "image/png": "[encoded data removed]",
      "text/plain": [
       "<Figure size 640x480 with 1 Axes>"
      ]
     },
     "metadata": {},
     "output_type": "display_data"
    }
   ],
   "source": [
    "plt.plot(losses)"
   ]
  },
  {
   "cell_type": "code",
   "execution_count": 6,
   "metadata": {},
   "outputs": [
    {
     "data": {
      "text/plain": [
       "Tensor([[0.9807737 , 0.98838405],\n",
       "       [0.97631941, 0.98541211],\n",
       "       [1.07412029, 1.12040828],\n",
       "       [0.96625906, 0.97089246],\n",
       "       [0.97360266, 0.99883177],\n",
       "       [0.9889813 , 0.90797368],\n",
       "       [0.92063834, 0.96095908],\n",
       "       [1.06949582, 1.03900288],\n",
       "       [0.97062576, 0.96508696],\n",
       "       [1.01649182, 0.95265704],\n",
       "       [1.08588094, 1.08233176],\n",
       "       [0.95917686, 1.07772021],\n",
       "       [0.97969948, 0.96980121],\n",
       "       [1.0429894 , 1.00072341],\n",
       "       [0.97796858, 1.05503805],\n",
       "       [1.04363156, 0.9983662 ],\n",
       "       [1.02131019, 0.98988742],\n",
       "       [0.93608027, 0.96676136],\n",
       "       [0.98818551, 0.92716002],\n",
       "       [1.01875563, 1.01929231]], grad_fn=+)"
      ]
     },
     "execution_count": 6,
     "metadata": {},
     "output_type": "execute_result"
    }
   ],
   "source": [
    "y_hat"
   ]
  },
  {
   "cell_type": "code",
   "execution_count": 10,
   "metadata": {},
   "outputs": [
    {
     "data": {
      "text/plain": [
       "array([[-5.95864212e+02,  5.68501677e+02, -2.04630551e+02],\n",
       "       [-4.26001496e+02,  3.24917421e+02,  4.40333297e-01],\n",
       "       [-5.97532890e+02,  3.85845504e+02, -2.28983188e+02],\n",
       "       [-6.02917834e+02,  4.78946158e+02, -2.22409021e+02],\n",
       "       [-2.67310709e+02,  6.41118427e+01,  5.71410734e+01],\n",
       "       [-1.50538228e+02,  6.40540340e+02,  1.47211429e+02],\n",
       "       [-4.89732931e+02,  2.99801190e+01, -1.99862346e+02],\n",
       "       [-4.93206632e+02,  2.36881295e+02, -4.97599742e+01],\n",
       "       [-3.15411916e+02,  4.68419050e+02, -4.52013436e+01],\n",
       "       [-2.14573877e+02,  1.99262311e+02, -4.82489889e+01],\n",
       "       [-2.96000796e+02,  3.06501050e+02, -3.44223555e+02],\n",
       "       [-3.19844621e+02,  6.38870995e+01, -6.55461166e+01],\n",
       "       [-2.06614260e+02,  6.55884771e+02,  9.75776976e+01],\n",
       "       [-3.10523019e+02,  4.50536811e+02, -5.25309855e+01],\n",
       "       [-7.28126006e+02,  6.19482119e+02, -2.49494875e+02],\n",
       "       [-2.31098315e+02,  3.03947952e+02, -2.23386844e+01],\n",
       "       [-1.44069371e+02,  2.25980974e+02,  9.60465483e+01],\n",
       "       [-8.07886159e+02,  6.44236472e+02, -2.57599362e+02],\n",
       "       [-1.53764531e+02,  5.84336011e+02,  1.52268731e+02],\n",
       "       [-1.20989101e+01,  4.21258054e+00,  4.76269711e+01]])"
      ]
     },
     "execution_count": 10,
     "metadata": {},
     "output_type": "execute_result"
    }
   ],
   "source": [
    "x.grad"
   ]
  },
  {
   "cell_type": "code",
   "execution_count": 7,
   "metadata": {},
   "outputs": [
    {
     "ename": "AssertionError",
     "evalue": "No gradient tracking when in no_grad mode",
     "output_type": "error",
     "traceback": [
      "\u001b[0;31m---------------------------------------------------------------------------\u001b[0m",
      "\u001b[0;31mAssertionError\u001b[0m                            Traceback (most recent call last)",
      "Cell \u001b[0;32mIn[7], line 4\u001b[0m\n\u001b[1;32m      2\u001b[0m \u001b[38;5;28;01mwith\u001b[39;00m Tensor\u001b[38;5;241m.\u001b[39mno_grad():\n\u001b[1;32m      3\u001b[0m     y_hat \u001b[38;5;241m=\u001b[39m model(x)\n\u001b[0;32m----> 4\u001b[0m     \u001b[43my_hat\u001b[49m\u001b[38;5;241;43m.\u001b[39;49m\u001b[43mbackward\u001b[49m\u001b[43m(\u001b[49m\u001b[43m)\u001b[49m\n",
      "File \u001b[0;32m~/Documents/Projects/milligrad/milligrad/tensor.py:54\u001b[0m, in \u001b[0;36mTensor.backward\u001b[0;34m(self)\u001b[0m\n\u001b[1;32m     53\u001b[0m \u001b[38;5;28;01mdef\u001b[39;00m \u001b[38;5;21mbackward\u001b[39m(\u001b[38;5;28mself\u001b[39m):\n\u001b[0;32m---> 54\u001b[0m     \u001b[38;5;28;01massert\u001b[39;00m \u001b[38;5;129;01mnot\u001b[39;00m Tensor\u001b[38;5;241m.\u001b[39m_no_grad, \u001b[38;5;124m\"\u001b[39m\u001b[38;5;124mNo gradient tracking when in no_grad mode\u001b[39m\u001b[38;5;124m\"\u001b[39m\n\u001b[1;32m     55\u001b[0m     \u001b[38;5;28mself\u001b[39m\u001b[38;5;241m.\u001b[39mgrad \u001b[38;5;241m=\u001b[39m np\u001b[38;5;241m.\u001b[39mones_like(\u001b[38;5;28mself\u001b[39m\u001b[38;5;241m.\u001b[39mdata) \u001b[38;5;66;03m# dL/dL = 1\u001b[39;00m\n\u001b[1;32m     57\u001b[0m     \u001b[38;5;28;01mfor\u001b[39;00m tensor \u001b[38;5;129;01min\u001b[39;00m \u001b[38;5;28mreversed\u001b[39m(topological_sort(\u001b[38;5;28mself\u001b[39m)):\n\u001b[1;32m     58\u001b[0m         \u001b[38;5;66;03m# the _backward functions keep copies of their data in the closure\u001b[39;00m\n",
      "\u001b[0;31mAssertionError\u001b[0m: No gradient tracking when in no_grad mode"
     ]
    }
   ],
   "source": [
    "# example of using no_grad\n",
    "with Tensor.no_grad():\n",
    "    y_hat = model(x)\n",
    "    y_hat.backward()"
   ]
  }
 ],
 "metadata": {
  "kernelspec": {
   "display_name": "adv",
   "language": "python",
   "name": "python3"
  },
  "language_info": {
   "codemirror_mode": {
    "name": "ipython",
    "version": 3
   },
   "file_extension": ".py",
   "mimetype": "text/x-python",
   "name": "python",
   "nbconvert_exporter": "python",
   "pygments_lexer": "ipython3",
   "version": "3.12.2"
  }
 },
 "nbformat": 4,
 "nbformat_minor": 2
}
