{
 "cells": [
  {
   "cell_type": "code",
   "execution_count": 1,
   "metadata": {},
   "outputs": [],
   "source": [
    "# autoreload\n",
    "%load_ext autoreload\n",
    "%autoreload 2\n",
    "\n",
    "from milligrad import Tensor, Module, GD, topological_sort\n",
    "\n",
    "from matplotlib import pyplot as plt"
   ]
  },
  {
   "cell_type": "code",
   "execution_count": 2,
   "metadata": {},
   "outputs": [],
   "source": [
    "class MLP(Module):\n",
    "    def __init__(self):\n",
    "        self.w1 = Tensor.xavier(3, 20)\n",
    "        self.w2 = Tensor.xavier(20, 2)\n",
    "        self.b1 = Tensor.randn(20)\n",
    "        self.b2 = Tensor.randn(2)\n",
    "        \n",
    "    def __call__(self, x):\n",
    "        x = (x @ self.w1 + self.b1).relu()\n",
    "        return (x @ self.w2 + self.b2).tanh()\n",
    "    \n",
    "    def parameters(self) -> list[Tensor]:\n",
    "        return [self.w1, self.w2, self.b1, self.b2]"
   ]
  },
  {
   "cell_type": "code",
   "execution_count": 3,
   "metadata": {},
   "outputs": [
    {
     "data": {
      "text/plain": [
       "['relu', '+', '@', 'input', 'weight', 'bias']"
      ]
     },
     "execution_count": 3,
     "metadata": {},
     "output_type": "execute_result"
    }
   ],
   "source": [
    "\n",
    "\n",
    "b = Tensor.randn(3, name=\"bias\")\n",
    "w = Tensor.randn(2, 3, name=\"weight\")\n",
    "x = Tensor.randn(5, 2, name=\"input\")\n",
    "y = (x @ w + b).relu()\n",
    "\n",
    "# operations are recorded to perform backpropagation\n",
    "# the order below is the order in which we bacpropagate\n",
    "sorted_tensors = reversed(topological_sort(y))\n",
    "[x.name for x in sorted_tensors if x.name] # \"\" is falsy"
   ]
  },
  {
   "cell_type": "code",
   "execution_count": 8,
   "metadata": {},
   "outputs": [],
   "source": [
    "from milligrad import Adam\n",
    "\n",
    "x = Tensor.randn(20, 3)\n",
    "y = Tensor.ones(20, 2)\n",
    "\n",
    "model = MLP()\n",
    "optim = Adam(model.parameters(), lr=1e-3)\n",
    "\n",
    "losses = []\n",
    "for i in range(1000):\n",
    "    y_hat = model(x)\n",
    "    loss = ((y - y_hat)**2).sum().sum()\n",
    "    \n",
    "    optim.zero_grad()\n",
    "    loss.backward()\n",
    "    optim.step()\n",
    "        \n",
    "    losses.append(loss.data)"
   ]
  },
  {
   "cell_type": "code",
   "execution_count": 9,
   "metadata": {},
   "outputs": [
    {
     "data": {
      "text/plain": [
       "[<matplotlib.lines.Line2D at 0x1327aaf50>]"
      ]
     },
     "execution_count": 9,
     "metadata": {},
     "output_type": "execute_result"
    },
    {
     "data": {
      "image/png": "[encoded data removed]",
      "text/plain": [
       "<Figure size 640x480 with 1 Axes>"
      ]
     },
     "metadata": {},
     "output_type": "display_data"
    }
   ],
   "source": [
    "plt.plot(losses)"
   ]
  },
  {
   "cell_type": "code",
   "execution_count": 10,
   "metadata": {},
   "outputs": [
    {
     "data": {
      "text/plain": [
       "array([[0.9644794 , 0.9857492 ],\n",
       "       [0.9514314 , 0.95573248],\n",
       "       [0.95326087, 0.97082246],\n",
       "       [0.9588915 , 0.94165958],\n",
       "       [0.93058151, 0.92026478],\n",
       "       [0.93409751, 0.93265586],\n",
       "       [0.957065  , 0.96752719],\n",
       "       [0.93488265, 0.93101277],\n",
       "       [0.98016925, 0.96330335],\n",
       "       [0.9632403 , 0.95081389],\n",
       "       [0.98048098, 0.97345698],\n",
       "       [0.93555997, 0.94418188],\n",
       "       [0.97393787, 0.97484938],\n",
       "       [0.9523485 , 0.98361276],\n",
       "       [0.95794976, 0.97265258],\n",
       "       [0.96438646, 0.95057091],\n",
       "       [0.99089739, 0.97824751],\n",
       "       [0.96386572, 0.95909515],\n",
       "       [0.95211787, 0.95948207],\n",
       "       [0.92352815, 0.91861745]])"
      ]
     },
     "execution_count": 10,
     "metadata": {},
     "output_type": "execute_result"
    }
   ],
   "source": [
    "y_hat"
   ]
  },
  {
   "cell_type": "code",
   "execution_count": 7,
   "metadata": {},
   "outputs": [
    {
     "ename": "AssertionError",
     "evalue": "No gradient tracking when in no_grad mode",
     "output_type": "error",
     "traceback": [
      "\u001b[0;31m---------------------------------------------------------------------------\u001b[0m",
      "\u001b[0;31mAssertionError\u001b[0m                            Traceback (most recent call last)",
      "Cell \u001b[0;32mIn[7], line 4\u001b[0m\n\u001b[1;32m      2\u001b[0m \u001b[38;5;28;01mwith\u001b[39;00m Tensor\u001b[38;5;241m.\u001b[39mno_grad():\n\u001b[1;32m      3\u001b[0m     y_hat \u001b[38;5;241m=\u001b[39m model(x)\n\u001b[0;32m----> 4\u001b[0m     y_hat\u001b[38;5;241m.\u001b[39mbackward()\n",
      "File \u001b[0;32m~/Documents/Projects/milligrad/milligrad/tensor.py:77\u001b[0m, in \u001b[0;36mTensor.backward\u001b[0;34m(self)\u001b[0m\n\u001b[1;32m     76\u001b[0m \u001b[38;5;28;01mdef\u001b[39;00m \u001b[38;5;21mbackward\u001b[39m(\u001b[38;5;28mself\u001b[39m):\n\u001b[0;32m---> 77\u001b[0m     \u001b[38;5;28;01massert\u001b[39;00m \u001b[38;5;129;01mnot\u001b[39;00m Tensor\u001b[38;5;241m.\u001b[39m_no_grad, \u001b[38;5;124m\"\u001b[39m\u001b[38;5;124mNo gradient tracking when in no_grad mode\u001b[39m\u001b[38;5;124m\"\u001b[39m\n\u001b[1;32m     78\u001b[0m     \u001b[38;5;28mself\u001b[39m\u001b[38;5;241m.\u001b[39mgrad \u001b[38;5;241m=\u001b[39m np\u001b[38;5;241m.\u001b[39mones_like(\u001b[38;5;28mself\u001b[39m\u001b[38;5;241m.\u001b[39mdata) \u001b[38;5;66;03m# dL/dL = 1\u001b[39;00m\n\u001b[1;32m     80\u001b[0m     \u001b[38;5;28;01mfor\u001b[39;00m tensor \u001b[38;5;129;01min\u001b[39;00m \u001b[38;5;28mreversed\u001b[39m(topological_sort(\u001b[38;5;28mself\u001b[39m)):\n\u001b[1;32m     81\u001b[0m         \u001b[38;5;66;03m# the _backward functions keep copies of their data in the closure\u001b[39;00m\n",
      "\u001b[0;31mAssertionError\u001b[0m: No gradient tracking when in no_grad mode"
     ]
    }
   ],
   "source": [
    "# example of using no_grad\n",
    "with Tensor.no_grad():\n",
    "    y_hat = model(x)\n",
    "    y_hat.backward()"
   ]
  }
 ],
 "metadata": {
  "kernelspec": {
   "display_name": "adv",
   "language": "python",
   "name": "python3"
  },
  "language_info": {
   "codemirror_mode": {
    "name": "ipython",
    "version": 3
   },
   "file_extension": ".py",
   "mimetype": "text/x-python",
   "name": "python",
   "nbconvert_exporter": "python",
   "pygments_lexer": "ipython3",
   "version": "3.11.5"
  }
 },
 "nbformat": 4,
 "nbformat_minor": 2
}
