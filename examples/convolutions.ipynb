{
 "cells": [
  {
   "cell_type": "code",
   "execution_count": 20,
   "metadata": {},
   "outputs": [
    {
     "name": "stdout",
     "output_type": "stream",
     "text": [
      "The autoreload extension is already loaded. To reload it, use:\n",
      "  %reload_ext autoreload\n"
     ]
    }
   ],
   "source": [
    "# autoreload\n",
    "%load_ext autoreload\n",
    "%autoreload 2\n",
    "\n",
    "import os\n",
    "if not \"milligrad\" in os.listdir():\n",
    "    os.chdir('..')\n",
    "\n",
    "from milligrad import Tensor, Adam\n",
    "from extras.mnist import load_mnist_data\n",
    "\n",
    "import numpy as np\n",
    "from tqdm import tqdm\n",
    "from matplotlib import pyplot as plt"
   ]
  },
  {
   "cell_type": "code",
   "execution_count": 21,
   "metadata": {},
   "outputs": [],
   "source": [
    "(x_train, y_train), (x_test, y_test) = load_mnist_data()\n",
    "\n",
    "# one-hot encoding labels\n",
    "y_train, y_test = np.eye(10)[y_train], np.eye(10)[y_test]\n",
    "\n",
    "# normalizing\n",
    "mean, std = x_train.mean(), x_train.std()\n",
    "x_train, x_test = (x_train - mean) / std, (x_test - mean) / std\n",
    "\n",
    "# pad to to 32 to be divisible by powers of 2\n",
    "x_train, x_test = np.pad(x_train, ((0, 0), (2, 2), (2, 2)), 'constant'), np.pad(x_test, ((0, 0), (2, 2), (2, 2)), 'constant')\n"
   ]
  },
  {
   "cell_type": "code",
   "execution_count": 24,
   "metadata": {},
   "outputs": [
    {
     "data": {
      "text/plain": [
       "(9, 3, 24, 24)"
      ]
     },
     "execution_count": 24,
     "metadata": {},
     "output_type": "execute_result"
    }
   ],
   "source": [
    "from milligrad import Tensor\n",
    "\n",
    "class ConvNet2d:\n",
    "    def __init__(self):\n",
    "        self.k = Tensor.randn(1, 9, 9, 3)   \n",
    "        self.w = Tensor.xavier(3 * 24 * 24, 10)\n",
    "        self.b = Tensor.zeros(10)\n",
    "\n",
    "        \n",
    "    def __call__(self, x:Tensor)->Tensor:\n",
    "        x = x.conv2d(self.k).relu()\n",
    "        return x.reshape(-1, 3 * 24 * 24) @ self.w + self.b\n",
    "        \n",
    "        \n",
    "    def parameters(self):\n",
    "        return [self.k, self.w, self.b]\n",
    "    \n",
    "model = ConvNet2d()\n",
    "model(Tensor.randn(9, 1, 32, 32)).shape"
   ]
  },
  {
   "cell_type": "code",
   "execution_count": 23,
   "metadata": {},
   "outputs": [],
   "source": [
    "def accuracy(y_true, y_pred):\n",
    "    return np.mean(np.argmax(y_true, axis=1) == np.argmax(y_pred, axis=1))"
   ]
  },
  {
   "cell_type": "code",
   "execution_count": 19,
   "metadata": {},
   "outputs": [
    {
     "name": "stderr",
     "output_type": "stream",
     "text": [
      "  4%|▍         | 20/468 [00:43<16:17,  2.18s/it]\n"
     ]
    },
    {
     "ename": "KeyboardInterrupt",
     "evalue": "",
     "output_type": "error",
     "traceback": [
      "\u001b[0;31m---------------------------------------------------------------------------\u001b[0m",
      "\u001b[0;31mKeyboardInterrupt\u001b[0m                         Traceback (most recent call last)",
      "Cell \u001b[0;32mIn[19], line 30\u001b[0m\n\u001b[1;32m     27\u001b[0m     accuracies\u001b[38;5;241m.\u001b[39mappend(accuracy(y\u001b[38;5;241m.\u001b[39mdata, y_hat\u001b[38;5;241m.\u001b[39mdata))\n\u001b[1;32m     29\u001b[0m     optim\u001b[38;5;241m.\u001b[39mzero_grad()\n\u001b[0;32m---> 30\u001b[0m     \u001b[43mloss\u001b[49m\u001b[38;5;241;43m.\u001b[39;49m\u001b[43mbackward\u001b[49m\u001b[43m(\u001b[49m\u001b[43m)\u001b[49m\n\u001b[1;32m     31\u001b[0m     optim\u001b[38;5;241m.\u001b[39mstep()\n\u001b[1;32m     33\u001b[0m losses_epoch\u001b[38;5;241m.\u001b[39mappend(np\u001b[38;5;241m.\u001b[39mmean(losses))\n",
      "File \u001b[0;32m~/Documents/Projects/milligrad/milligrad/tensor.py:66\u001b[0m, in \u001b[0;36mTensor.backward\u001b[0;34m(self)\u001b[0m\n\u001b[1;32m     63\u001b[0m \u001b[38;5;28mself\u001b[39m\u001b[38;5;241m.\u001b[39mgrad \u001b[38;5;241m=\u001b[39m np\u001b[38;5;241m.\u001b[39mones_like(\u001b[38;5;28mself\u001b[39m\u001b[38;5;241m.\u001b[39mdata) \u001b[38;5;66;03m# dL/dL = 1\u001b[39;00m\n\u001b[1;32m     65\u001b[0m \u001b[38;5;28;01mfor\u001b[39;00m tensor \u001b[38;5;129;01min\u001b[39;00m \u001b[38;5;28mreversed\u001b[39m(topological_sort(\u001b[38;5;28mself\u001b[39m)):\n\u001b[0;32m---> 66\u001b[0m     \u001b[43mtensor\u001b[49m\u001b[38;5;241;43m.\u001b[39;49m\u001b[43m_backward\u001b[49m\u001b[43m(\u001b[49m\u001b[43m)\u001b[49m \u001b[38;5;66;03m# relevant data kept in these closures\u001b[39;00m\n\u001b[1;32m     67\u001b[0m     tensor\u001b[38;5;241m.\u001b[39m_backward \u001b[38;5;241m=\u001b[39m \u001b[38;5;28;01mlambda\u001b[39;00m: \u001b[38;5;28;01mNone\u001b[39;00m\n",
      "File \u001b[0;32m~/Documents/Projects/milligrad/milligrad/tensor.py:189\u001b[0m, in \u001b[0;36mTensor.conv2d.<locals>._backward\u001b[0;34m()\u001b[0m\n\u001b[1;32m    187\u001b[0m     \u001b[38;5;28;01mfor\u001b[39;00m j \u001b[38;5;129;01min\u001b[39;00m \u001b[38;5;28mrange\u001b[39m(W_out):\n\u001b[1;32m    188\u001b[0m         dpad[:, :, i:i\u001b[38;5;241m+\u001b[39mK1, j:j\u001b[38;5;241m+\u001b[39mK2] \u001b[38;5;241m+\u001b[39m\u001b[38;5;241m=\u001b[39m np\u001b[38;5;241m.\u001b[39meinsum(\u001b[38;5;124m'\u001b[39m\u001b[38;5;124mcijx,bx->bcij\u001b[39m\u001b[38;5;124m'\u001b[39m, kernels\u001b[38;5;241m.\u001b[39mdata, out\u001b[38;5;241m.\u001b[39mgrad[:, :, i, j])\n\u001b[0;32m--> 189\u001b[0m         dkernels \u001b[38;5;241m+\u001b[39m\u001b[38;5;241m=\u001b[39m \u001b[43mnp\u001b[49m\u001b[38;5;241;43m.\u001b[39;49m\u001b[43meinsum\u001b[49m\u001b[43m(\u001b[49m\u001b[38;5;124;43m'\u001b[39;49m\u001b[38;5;124;43mbcij,bx->cijx\u001b[39;49m\u001b[38;5;124;43m'\u001b[39;49m\u001b[43m,\u001b[49m\u001b[43m \u001b[49m\u001b[43mpad\u001b[49m\u001b[43m[\u001b[49m\u001b[43m:\u001b[49m\u001b[43m,\u001b[49m\u001b[43m \u001b[49m\u001b[43m:\u001b[49m\u001b[43m,\u001b[49m\u001b[43m \u001b[49m\u001b[43mi\u001b[49m\u001b[43m:\u001b[49m\u001b[43mi\u001b[49m\u001b[38;5;241;43m+\u001b[39;49m\u001b[43mK1\u001b[49m\u001b[43m,\u001b[49m\u001b[43m \u001b[49m\u001b[43mj\u001b[49m\u001b[43m:\u001b[49m\u001b[43mj\u001b[49m\u001b[38;5;241;43m+\u001b[39;49m\u001b[43mK2\u001b[49m\u001b[43m]\u001b[49m\u001b[43m,\u001b[49m\u001b[43m \u001b[49m\u001b[43mout\u001b[49m\u001b[38;5;241;43m.\u001b[39;49m\u001b[43mgrad\u001b[49m\u001b[43m[\u001b[49m\u001b[43m:\u001b[49m\u001b[43m,\u001b[49m\u001b[43m \u001b[49m\u001b[43m:\u001b[49m\u001b[43m,\u001b[49m\u001b[43m \u001b[49m\u001b[43mi\u001b[49m\u001b[43m,\u001b[49m\u001b[43m \u001b[49m\u001b[43mj\u001b[49m\u001b[43m]\u001b[49m\u001b[43m)\u001b[49m\n\u001b[1;32m    191\u001b[0m \u001b[38;5;28mself\u001b[39m\u001b[38;5;241m.\u001b[39mgrad \u001b[38;5;241m+\u001b[39m\u001b[38;5;241m=\u001b[39m dpad[:, :, p1:W_in\u001b[38;5;241m+\u001b[39mp1, p2:H_in\u001b[38;5;241m+\u001b[39mp2]\n\u001b[1;32m    192\u001b[0m kernels\u001b[38;5;241m.\u001b[39mgrad \u001b[38;5;241m+\u001b[39m\u001b[38;5;241m=\u001b[39m dkernels\n",
      "File \u001b[0;32m~/Documents/Projects/milligrad/.venv/lib/python3.12/site-packages/numpy/core/einsumfunc.py:1371\u001b[0m, in \u001b[0;36meinsum\u001b[0;34m(out, optimize, *operands, **kwargs)\u001b[0m\n\u001b[1;32m   1369\u001b[0m     \u001b[38;5;28;01mif\u001b[39;00m specified_out:\n\u001b[1;32m   1370\u001b[0m         kwargs[\u001b[38;5;124m'\u001b[39m\u001b[38;5;124mout\u001b[39m\u001b[38;5;124m'\u001b[39m] \u001b[38;5;241m=\u001b[39m out\n\u001b[0;32m-> 1371\u001b[0m     \u001b[38;5;28;01mreturn\u001b[39;00m \u001b[43mc_einsum\u001b[49m\u001b[43m(\u001b[49m\u001b[38;5;241;43m*\u001b[39;49m\u001b[43moperands\u001b[49m\u001b[43m,\u001b[49m\u001b[43m \u001b[49m\u001b[38;5;241;43m*\u001b[39;49m\u001b[38;5;241;43m*\u001b[39;49m\u001b[43mkwargs\u001b[49m\u001b[43m)\u001b[49m\n\u001b[1;32m   1373\u001b[0m \u001b[38;5;66;03m# Check the kwargs to avoid a more cryptic error later, without having to\u001b[39;00m\n\u001b[1;32m   1374\u001b[0m \u001b[38;5;66;03m# repeat default values here\u001b[39;00m\n\u001b[1;32m   1375\u001b[0m valid_einsum_kwargs \u001b[38;5;241m=\u001b[39m [\u001b[38;5;124m'\u001b[39m\u001b[38;5;124mdtype\u001b[39m\u001b[38;5;124m'\u001b[39m, \u001b[38;5;124m'\u001b[39m\u001b[38;5;124morder\u001b[39m\u001b[38;5;124m'\u001b[39m, \u001b[38;5;124m'\u001b[39m\u001b[38;5;124mcasting\u001b[39m\u001b[38;5;124m'\u001b[39m]\n",
      "\u001b[0;31mKeyboardInterrupt\u001b[0m: "
     ]
    }
   ],
   "source": [
    "EPOCHS = 10\n",
    "BATCH_SIZE = 128\n",
    "LR = 1e-3\n",
    "LAMBDA = 1e-4\n",
    "\n",
    "\n",
    "model = ConvNet2d()\n",
    "optim = Adam(model.parameters(), lr=LR)\n",
    "\n",
    "losses_epoch = []\n",
    "accuracies_epoch = []\n",
    "\n",
    "for _ in range(EPOCHS):\n",
    "    shuffle = np.random.permutation(len(x_train))\n",
    "    \n",
    "    losses = []\n",
    "    accuracies = []\n",
    "    for i in tqdm(range(0, len(x_train)//BATCH_SIZE)):\n",
    "        indices = shuffle[i*BATCH_SIZE:(i+1)*BATCH_SIZE]\n",
    "        x = Tensor(x_train[indices][:, None])\n",
    "        y = Tensor(y_train[indices])\n",
    "        y_hat = model(x)\n",
    "        \n",
    "        loss = -(y * y_hat.log_softmax()).sum(axis=-1).mean()\n",
    "\n",
    "        losses.append(loss.data)\n",
    "        accuracies.append(accuracy(y.data, y_hat.data))\n",
    "        \n",
    "        optim.zero_grad()\n",
    "        loss.backward()\n",
    "        optim.step()\n",
    "        \n",
    "    losses_epoch.append(np.mean(losses))\n",
    "    accuracies_epoch.append(np.mean(accuracies))\n",
    "            "
   ]
  },
  {
   "cell_type": "code",
   "execution_count": 10,
   "metadata": {},
   "outputs": [
    {
     "data": {
      "text/plain": [
       "['-',\n",
       " '*',\n",
       " 'sum',\n",
       " 'sum',\n",
       " '*',\n",
       " 'log_softmax',\n",
       " '+',\n",
       " '@',\n",
       " 'reshape',\n",
       " 'relu',\n",
       " 'conv1d',\n",
       " 'reshape',\n",
       " 'relu',\n",
       " 'conv1d']"
      ]
     },
     "execution_count": 10,
     "metadata": {},
     "output_type": "execute_result"
    }
   ],
   "source": [
    "from milligrad import topological_sort\n",
    "[x._grad_fn for x in reversed(topological_sort(loss)) if x._grad_fn]"
   ]
  },
  {
   "cell_type": "code",
   "execution_count": 11,
   "metadata": {},
   "outputs": [
    {
     "data": {
      "image/png": "[encoded data removed]",
      "text/plain": [
       "<Figure size 640x480 with 1 Axes>"
      ]
     },
     "metadata": {},
     "output_type": "display_data"
    }
   ],
   "source": [
    "plt.plot(losses_epoch, label='loss')\n",
    "plt.legend()\n",
    "plt.show()"
   ]
  },
  {
   "cell_type": "code",
   "execution_count": 12,
   "metadata": {},
   "outputs": [
    {
     "data": {
      "image/png": "[encoded data removed]",
      "text/plain": [
       "<Figure size 640x480 with 1 Axes>"
      ]
     },
     "metadata": {},
     "output_type": "display_data"
    }
   ],
   "source": [
    "plt.plot(accuracies_epoch, label='accuracy')\n",
    "plt.legend()\n",
    "plt.show()\n"
   ]
  },
  {
   "cell_type": "code",
   "execution_count": 9,
   "metadata": {},
   "outputs": [],
   "source": [
    "\n",
    "class ConvNet2d:\n",
    "    def __init__(\n",
    "            self, c_in:int, c_out:int, kernel_size:tuple[int,int], padding:tuple[int,int]=(0,0)\n",
    "        ):\n",
    "        self.kernel_size, self.padding = kernel_size, padding\n",
    "        \n",
    "        self.kernels = Tensor.randn(c_in, *kernel_size, c_out)\n",
    "        self.bias = Tensor.randn(c_out, 1, 1)\n",
    "        \n",
    "    def __call__(self, x:Tensor)->Tensor:\n",
    "        # (batch_size, c_in, w_i, h_i) -> (batch_size, c_out, w_o, h_o)\n",
    "        return x.conv2d(self.kernel, self.padding) + self.bias\n"
   ]
  }
 ],
 "metadata": {
  "kernelspec": {
   "display_name": ".venv",
   "language": "python",
   "name": "python3"
  },
  "language_info": {
   "codemirror_mode": {
    "name": "ipython",
    "version": 3
   },
   "file_extension": ".py",
   "mimetype": "text/x-python",
   "name": "python",
   "nbconvert_exporter": "python",
   "pygments_lexer": "ipython3",
   "version": "3.12.3"
  }
 },
 "nbformat": 4,
 "nbformat_minor": 2
}
