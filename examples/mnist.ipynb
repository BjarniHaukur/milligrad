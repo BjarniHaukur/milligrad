{
 "cells": [
  {
   "cell_type": "code",
   "execution_count": 54,
   "metadata": {},
   "outputs": [
    {
     "name": "stdout",
     "output_type": "stream",
     "text": [
      "The autoreload extension is already loaded. To reload it, use:\n",
      "  %reload_ext autoreload\n"
     ]
    }
   ],
   "source": [
    "# autoreload\n",
    "%load_ext autoreload\n",
    "%autoreload 2\n",
    "\n",
    "import os\n",
    "if not \"milligrad\" in os.listdir():\n",
    "    os.chdir('..')\n",
    "\n",
    "from milligrad import Tensor, Adam\n",
    "from extras.mnist import load_mnist_data\n",
    "\n",
    "import numpy as np\n",
    "from tqdm import tqdm\n",
    "from matplotlib import pyplot as plt"
   ]
  },
  {
   "cell_type": "code",
   "execution_count": 55,
   "metadata": {},
   "outputs": [],
   "source": [
    "(x_train, y_train), (x_test, y_test) = load_mnist_data()\n",
    "\n",
    "# flattening images and one-hot encoding labels\n",
    "x_train, x_test = x_train.reshape(-1, 28*28), x_test.reshape(-1, 28*28)\n",
    "y_train, y_test = np.eye(10)[y_train], np.eye(10)[y_test]\n",
    "\n",
    "# normalizing\n",
    "mean, std = x_train.mean(), x_train.std()\n",
    "x_train, x_test = (x_train - mean) / std, (x_test - mean) / std\n"
   ]
  },
  {
   "cell_type": "code",
   "execution_count": 56,
   "metadata": {},
   "outputs": [],
   "source": [
    "class MLP:\n",
    "    def __init__(self):\n",
    "        super().__init__()\n",
    "        self.w1 = Tensor.xavier(784, 128)\n",
    "        self.b1 = Tensor.randn(128)\n",
    "        self.w2 = Tensor.xavier(128, 10)\n",
    "        self.b2 = Tensor.randn(10)\n",
    "        \n",
    "    def __call__(self, x:Tensor)->Tensor:\n",
    "        x = (x @ self.w1 + self.b1).relu()\n",
    "        return x @ self.w2 + self.b2\n",
    "    \n",
    "    def parameters(self):\n",
    "        return [self.w1, self.b1, self.w2, self.b2]\n",
    "\n",
    "# class Simple:\n",
    "#     def __init__(self):\n",
    "#         super().__init__()\n",
    "#         self.w = Tensor.randn(784, 10)\n",
    "#         self.b = Tensor.randn(10)\n",
    "        \n",
    "#     def __call__(self, x:Tensor)->Tensor:\n",
    "#         return x @ self.w + self.b"
   ]
  },
  {
   "cell_type": "code",
   "execution_count": 57,
   "metadata": {},
   "outputs": [],
   "source": [
    "def accuracy(y_true, y_pred):\n",
    "    return np.mean(np.argmax(y_true, axis=1) == np.argmax(y_pred, axis=1))"
   ]
  },
  {
   "cell_type": "code",
   "execution_count": 58,
   "metadata": {},
   "outputs": [
    {
     "name": "stderr",
     "output_type": "stream",
     "text": [
      "100%|██████████| 10/10 [00:26<00:00,  2.62s/it]\n"
     ]
    }
   ],
   "source": [
    "EPOCHS = 10\n",
    "BATCH_SIZE = 128\n",
    "LR = 1e-3\n",
    "LAMBDA = 1e-4\n",
    "\n",
    "\n",
    "model = MLP()\n",
    "optim = Adam(model.parameters(), lr=LR)\n",
    "\n",
    "losses_epoch = []\n",
    "accuracies_epoch = []\n",
    "\n",
    "for _ in tqdm(range(EPOCHS)):\n",
    "    shuffle = np.random.permutation(len(x_train))\n",
    "    \n",
    "    losses = []\n",
    "    accuracies = []\n",
    "    for i in range(0, len(x_train)//BATCH_SIZE):\n",
    "        indices = shuffle[i*BATCH_SIZE:(i+1)*BATCH_SIZE]\n",
    "        x = Tensor(x_train[indices])\n",
    "        y = Tensor(y_train[indices])\n",
    "        y_hat = model(x)\n",
    "        \n",
    "        # This is simply the cross-entropy loss\n",
    "        loss = -(y * y_hat.log_softmax()).sum(axis=-1).mean()\n",
    "        loss += LAMBDA * ((model.w1**2).sum().sum() + (model.w2**2).sum().sum())\n",
    "\n",
    "        losses.append(loss.data)\n",
    "        accuracies.append(accuracy(y.data, y_hat.data))\n",
    "        \n",
    "        optim.zero_grad()\n",
    "        loss.backward()\n",
    "        optim.step()\n",
    "        \n",
    "    losses_epoch.append(np.mean(losses))\n",
    "    accuracies_epoch.append(np.mean(accuracies))\n",
    "            "
   ]
  },
  {
   "cell_type": "code",
   "execution_count": 59,
   "metadata": {},
   "outputs": [
    {
     "data": {
      "text/plain": [
       "['+',\n",
       " '-',\n",
       " 'mean',\n",
       " 'sum',\n",
       " '*',\n",
       " 'log_softmax',\n",
       " '+',\n",
       " '@',\n",
       " 'relu',\n",
       " '+',\n",
       " '@',\n",
       " '*',\n",
       " '+',\n",
       " 'sum',\n",
       " 'sum',\n",
       " '**2',\n",
       " 'sum',\n",
       " 'sum',\n",
       " '**2']"
      ]
     },
     "execution_count": 59,
     "metadata": {},
     "output_type": "execute_result"
    }
   ],
   "source": [
    "from milligrad import topological_sort\n",
    "[x._grad_fn for x in reversed(topological_sort(loss)) if x._grad_fn]"
   ]
  },
  {
   "cell_type": "markdown",
   "metadata": {},
   "source": [
    "Here we see that the regularization comes last in the backpropagation order even thought it was the last operation done on the loss Tensor, as should be expected."
   ]
  },
  {
   "cell_type": "code",
   "execution_count": 60,
   "metadata": {},
   "outputs": [
    {
     "data": {
      "text/plain": [
       "(7.464157935733715e-05,\n",
       " 4.4083441384042696e-05,\n",
       " 0.00531465652229313,\n",
       " 0.045626518212852546)"
      ]
     },
     "execution_count": 60,
     "metadata": {},
     "output_type": "execute_result"
    }
   ],
   "source": [
    "model.w1.data.mean(), model.w2.data.mean(), model.w1.data.std(), model.w2.data.std()"
   ]
  },
  {
   "cell_type": "code",
   "execution_count": 61,
   "metadata": {},
   "outputs": [
    {
     "data": {
      "image/png": "[encoded data removed]",
      "text/plain": [
       "<Figure size 640x480 with 1 Axes>"
      ]
     },
     "metadata": {},
     "output_type": "display_data"
    }
   ],
   "source": [
    "# plt.plot(losses_epoch, label='loss')\n",
    "plt.plot(losses_epoch, label='accuracy')\n",
    "plt.legend()\n",
    "plt.show()"
   ]
  },
  {
   "cell_type": "code",
   "execution_count": 62,
   "metadata": {},
   "outputs": [
    {
     "data": {
      "text/plain": [
       "[<matplotlib.lines.Line2D at 0x1400597c0>]"
      ]
     },
     "execution_count": 62,
     "metadata": {},
     "output_type": "execute_result"
    },
    {
     "data": {
      "image/png": "[encoded data removed]",
      "text/plain": [
       "<Figure size 640x480 with 1 Axes>"
      ]
     },
     "metadata": {},
     "output_type": "display_data"
    }
   ],
   "source": [
    "plt.plot(accuracies_epoch)"
   ]
  },
  {
   "cell_type": "code",
   "execution_count": 63,
   "metadata": {},
   "outputs": [
    {
     "data": {
      "text/plain": [
       "0.8631"
      ]
     },
     "execution_count": 63,
     "metadata": {},
     "output_type": "execute_result"
    }
   ],
   "source": [
    "accuracy(y_test, model(Tensor(x_test)).data)"
   ]
  },
  {
   "cell_type": "code",
   "execution_count": 64,
   "metadata": {},
   "outputs": [
    {
     "name": "stdout",
     "output_type": "stream",
     "text": [
      "4\n"
     ]
    },
    {
     "data": {
      "text/plain": [
       "<matplotlib.image.AxesImage at 0x120496960>"
      ]
     },
     "execution_count": 64,
     "metadata": {},
     "output_type": "execute_result"
    },
    {
     "data": {
      "image/png": "[encoded data removed]",
      "text/plain": [
       "<Figure size 640x480 with 1 Axes>"
      ]
     },
     "metadata": {},
     "output_type": "display_data"
    }
   ],
   "source": [
    "idx = 6\n",
    "\n",
    "print(model(Tensor(x_test[idx])).data.argmax())\n",
    "\n",
    "plt.imshow(x_test[idx].reshape(28, 28), cmap='gray')"
   ]
  }
 ],
 "metadata": {
  "kernelspec": {
   "display_name": ".venv",
   "language": "python",
   "name": "python3"
  },
  "language_info": {
   "codemirror_mode": {
    "name": "ipython",
    "version": 3
   },
   "file_extension": ".py",
   "mimetype": "text/x-python",
   "name": "python",
   "nbconvert_exporter": "python",
   "pygments_lexer": "ipython3",
   "version": "3.12.2"
  }
 },
 "nbformat": 4,
 "nbformat_minor": 2
}
