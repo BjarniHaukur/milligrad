{
 "cells": [
  {
   "cell_type": "code",
   "execution_count": 13,
   "metadata": {},
   "outputs": [
    {
     "name": "stdout",
     "output_type": "stream",
     "text": [
      "The autoreload extension is already loaded. To reload it, use:\n",
      "  %reload_ext autoreload\n"
     ]
    }
   ],
   "source": [
    "# autoreload\n",
    "%load_ext autoreload\n",
    "%autoreload 2\n",
    "\n",
    "import os\n",
    "if not \"milligrad\" in os.listdir():\n",
    "    os.chdir('..')\n",
    "\n",
    "from milligrad import Tensor, Module, Adam, topological_sort\n",
    "from extras.mnist import load_mnist_data\n",
    "\n",
    "import numpy as np\n",
    "from tqdm import tqdm\n",
    "from matplotlib import pyplot as plt"
   ]
  },
  {
   "cell_type": "code",
   "execution_count": 14,
   "metadata": {},
   "outputs": [],
   "source": [
    "(x_train, y_train), (x_test, y_test) = load_mnist_data()\n",
    "\n",
    "# flattening images and one-hot encoding labels\n",
    "x_train, x_test = x_train.reshape(-1, 28*28), x_test.reshape(-1, 28*28)\n",
    "y_train, y_test = np.eye(10)[y_train], np.eye(10)[y_test]\n",
    "\n",
    "# normalizing\n",
    "mean, std = x_train.mean(), x_train.std()\n",
    "x_train, x_test = (x_train - mean) / std, (x_test - mean) / std\n",
    "\n",
    "# standardizing\n",
    "# train_min, train_max = x_train.min(), x_train.max()\n",
    "# x_train = (x_train - train_min) / (train_max - train_min)\n",
    "# x_test = (x_test - train_min) / (train_max - train_min)\n"
   ]
  },
  {
   "cell_type": "code",
   "execution_count": 15,
   "metadata": {},
   "outputs": [],
   "source": [
    "from milligrad.tensor import Tensor\n",
    "\n",
    "class AutoEncoder(Module):\n",
    "    def __init__(self, layers:list[int]):\n",
    "        self.encoder = [\n",
    "            (Tensor.xavier(i, o), Tensor.randn(o))\n",
    "            for i, o in zip(layers, layers[1:])\n",
    "        ]\n",
    "        \n",
    "        layers = layers[::-1]\n",
    "        self.decoder = [\n",
    "            (Tensor.xavier(i, o), Tensor.randn(o))\n",
    "            for i, o in zip(layers, layers[1:])\n",
    "        ]\n",
    "        \n",
    "    def __call__(self, x:Tensor)->Tensor:\n",
    "        for w, b in self.encoder:\n",
    "            x = (x @ w + b).relu()\n",
    "        for w, b in self.decoder[:-1]:\n",
    "            x = (x @ w + b).relu()\n",
    "        \n",
    "        w, b = self.decoder[-1]\n",
    "        return (x @ w + b).sigmoid()\n",
    "    \n",
    "    def parameters(self) -> list[Tensor]:\n",
    "        return [param for layer in [self.encoder, self.decoder] for params in layer for param in params]\n",
    "        \n",
    "class MLP(Module):\n",
    "    def __init__(self):\n",
    "        super().__init__()\n",
    "        self.w1 = Tensor.xavier(784, 128)\n",
    "        self.b1 = Tensor.randn(128)\n",
    "        self.w2 = Tensor.xavier(128, 10)\n",
    "        self.b2 = Tensor.randn(10)\n",
    "        \n",
    "    def __call__(self, x:Tensor)->Tensor:\n",
    "        x = (x @ self.w1 + self.b1).relu()\n",
    "        return x @ self.w2 + self.b2\n",
    "    \n",
    "    def parameters(self)->list[Tensor]:\n",
    "        return [self.w1, self.b1, self.w2, self.b2]"
   ]
  },
  {
   "cell_type": "code",
   "execution_count": 21,
   "metadata": {},
   "outputs": [
    {
     "data": {
      "text/plain": [
       "0.6573"
      ]
     },
     "execution_count": 21,
     "metadata": {},
     "output_type": "execute_result"
    }
   ],
   "source": [
    "def accuracy(y_true, y_pred):\n",
    "    return np.mean(np.argmax(y_true, axis=1) == np.argmax(y_pred, axis=1))"
   ]
  },
  {
   "cell_type": "code",
   "execution_count": 22,
   "metadata": {},
   "outputs": [],
   "source": [
    "# model = AutoEncoder(layers=[784, 128, 64])\n",
    "model = MLP()\n",
    "optim = Adam(model.parameters(), lr=1e-3)\n",
    "\n",
    "losses = []\n",
    "accuracies = []\n",
    "for i in range(100):\n",
    "    y_hat = model(Tensor(x_train[:100]))\n",
    "    loss = y_hat.cross_entropy(Tensor(y_train[:100]))\n",
    "    # loss = ((x_hat - Tensor(x_train[:100]))**2).sum().mean()\n",
    "    losses.append(loss.data)\n",
    "    accuracies.append(accuracy(y_train[:100], y_hat.data))\n",
    "    \n",
    "    optim.zero_grad()\n",
    "    loss.backward()\n",
    "    optim.step()\n",
    "        "
   ]
  },
  {
   "cell_type": "code",
   "execution_count": 24,
   "metadata": {},
   "outputs": [
    {
     "data": {
      "text/plain": [
       "[<matplotlib.lines.Line2D at 0x117d713a0>]"
      ]
     },
     "execution_count": 24,
     "metadata": {},
     "output_type": "execute_result"
    },
    {
     "data": {
      "image/png": "[encoded data removed]",
      "text/plain": [
       "<Figure size 640x480 with 1 Axes>"
      ]
     },
     "metadata": {},
     "output_type": "display_data"
    }
   ],
   "source": [
    "plt.plot(losses)"
   ]
  },
  {
   "cell_type": "code",
   "execution_count": 25,
   "metadata": {},
   "outputs": [
    {
     "data": {
      "text/plain": [
       "[<matplotlib.lines.Line2D at 0x117e8aff0>]"
      ]
     },
     "execution_count": 25,
     "metadata": {},
     "output_type": "execute_result"
    },
    {
     "data": {
      "image/png": "[encoded data removed]",
      "text/plain": [
       "<Figure size 640x480 with 1 Axes>"
      ]
     },
     "metadata": {},
     "output_type": "display_data"
    }
   ],
   "source": [
    "plt.plot(accuracies)"
   ]
  },
  {
   "cell_type": "code",
   "execution_count": 19,
   "metadata": {},
   "outputs": [
    {
     "name": "stdout",
     "output_type": "stream",
     "text": [
      "4\n"
     ]
    },
    {
     "data": {
      "text/plain": [
       "<matplotlib.image.AxesImage at 0x117d70170>"
      ]
     },
     "execution_count": 19,
     "metadata": {},
     "output_type": "execute_result"
    },
    {
     "data": {
      "image/png": "[encoded data removed]",
      "text/plain": [
       "<Figure size 640x480 with 1 Axes>"
      ]
     },
     "metadata": {},
     "output_type": "display_data"
    }
   ],
   "source": [
    "print(model(Tensor(x_test[8])).data.argmax())\n",
    "\n",
    "plt.imshow(x_test[8].reshape(28, 28), cmap='gray')"
   ]
  },
  {
   "cell_type": "code",
   "execution_count": 20,
   "metadata": {},
   "outputs": [
    {
     "ename": "NameError",
     "evalue": "name 'x_hat' is not defined",
     "output_type": "error",
     "traceback": [
      "\u001b[0;31m---------------------------------------------------------------------------\u001b[0m",
      "\u001b[0;31mNameError\u001b[0m                                 Traceback (most recent call last)",
      "Cell \u001b[0;32mIn[20], line 1\u001b[0m\n\u001b[0;32m----> 1\u001b[0m img \u001b[38;5;241m=\u001b[39m \u001b[43mx_hat\u001b[49m\u001b[38;5;241m.\u001b[39mdata[\u001b[38;5;241m5\u001b[39m]\u001b[38;5;241m.\u001b[39mreshape(\u001b[38;5;241m28\u001b[39m, \u001b[38;5;241m28\u001b[39m)\n\u001b[1;32m      2\u001b[0m img \u001b[38;5;241m=\u001b[39m (img \u001b[38;5;241m*\u001b[39m (train_max \u001b[38;5;241m-\u001b[39m train_min)) \u001b[38;5;241m+\u001b[39m train_min\n\u001b[1;32m      4\u001b[0m plt\u001b[38;5;241m.\u001b[39mimshow(img, cmap\u001b[38;5;241m=\u001b[39m\u001b[38;5;124m\"\u001b[39m\u001b[38;5;124mgray\u001b[39m\u001b[38;5;124m\"\u001b[39m)\n",
      "\u001b[0;31mNameError\u001b[0m: name 'x_hat' is not defined"
     ]
    }
   ],
   "source": [
    "img = x_hat.data[5].reshape(28, 28)\n",
    "img = (img * (train_max - train_min)) + train_min\n",
    "\n",
    "plt.imshow(img, cmap=\"gray\")"
   ]
  },
  {
   "cell_type": "code",
   "execution_count": null,
   "metadata": {},
   "outputs": [],
   "source": []
  }
 ],
 "metadata": {
  "kernelspec": {
   "display_name": ".venv",
   "language": "python",
   "name": "python3"
  },
  "language_info": {
   "codemirror_mode": {
    "name": "ipython",
    "version": 3
   },
   "file_extension": ".py",
   "mimetype": "text/x-python",
   "name": "python",
   "nbconvert_exporter": "python",
   "pygments_lexer": "ipython3",
   "version": "3.12.2"
  }
 },
 "nbformat": 4,
 "nbformat_minor": 2
}
