{
 "cells": [
  {
   "cell_type": "code",
   "execution_count": 2,
   "metadata": {},
   "outputs": [],
   "source": [
    "# autoreload\n",
    "%load_ext autoreload\n",
    "%autoreload 2\n",
    "\n",
    "from milligrad.module import Module\n",
    "from milligrad.tensor import Tensor, topological_sort\n",
    "\n",
    "from matplotlib import pyplot as plt"
   ]
  },
  {
   "cell_type": "code",
   "execution_count": 3,
   "metadata": {},
   "outputs": [],
   "source": [
    "class MLP(Module):\n",
    "    def __init__(self):\n",
    "        self.w1 = Tensor.xavier(3, 4)\n",
    "        self.w2 = Tensor.xavier(4, 2)\n",
    "        self.b1 = Tensor.randn(4)\n",
    "        self.b2 = Tensor.randn(2)\n",
    "        \n",
    "    def __call__(self, x):\n",
    "        x = x @ self.w1 + self.b1\n",
    "        x = x.relu()\n",
    "        x = x @ self.w2 + self.b2\n",
    "        return x.tanh()\n",
    "    \n",
    "    def parameters(self) -> list[Tensor]:\n",
    "        return [self.w1, self.w2, self.b1, self.b2]\n",
    "    \n",
    "class Perceptron(Module):\n",
    "    def __init__(self):\n",
    "        self.w = Tensor.randn(3, 2)\n",
    "        self.b = Tensor.randn(2)\n",
    "        \n",
    "    def __call__(self, x):\n",
    "        return x @ self.w + self.b\n",
    "    \n",
    "    def parameters(self) -> list[Tensor]:\n",
    "        return [self.w, self.b]"
   ]
  },
  {
   "cell_type": "code",
   "execution_count": 5,
   "metadata": {},
   "outputs": [
    {
     "data": {
      "text/plain": [
       "['@', '+', 'relu', '@', '+', 'tanh']"
      ]
     },
     "execution_count": 5,
     "metadata": {},
     "output_type": "execute_result"
    }
   ],
   "source": [
    "\n",
    "\n",
    "mlp = MLP()\n",
    "y_hat = mlp(Tensor.randn(5, 3))\n",
    "\n",
    "sorted_tensors = topological_sort(y_hat)\n",
    "[x.name for x in sorted_tensors if x.name] # \"\" is falsy"
   ]
  },
  {
   "cell_type": "code",
   "execution_count": 6,
   "metadata": {},
   "outputs": [],
   "source": [
    "x = Tensor.randn(5, 3)\n",
    "y = Tensor.zeros(5, 2)\n",
    "\n",
    "model = Perceptron()\n",
    "\n",
    "losses = []\n",
    "for i in range(1000):\n",
    "    y_hat = model(x)\n",
    "    loss = ((y - y_hat)**2).sum().sum()\n",
    "    loss.backward()\n",
    "    \n",
    "    for param in model.parameters():\n",
    "        param.data -= param.grad * 1e-3\n",
    "        \n",
    "    model.zero_grad()\n",
    "    losses.append(loss.data)"
   ]
  },
  {
   "cell_type": "code",
   "execution_count": 7,
   "metadata": {},
   "outputs": [
    {
     "data": {
      "text/plain": [
       "[<matplotlib.lines.Line2D at 0x11ea99390>]"
      ]
     },
     "execution_count": 7,
     "metadata": {},
     "output_type": "execute_result"
    },
    {
     "data": {
      "image/png": "[encoded data removed]",
      "text/plain": [
       "<Figure size 640x480 with 1 Axes>"
      ]
     },
     "metadata": {},
     "output_type": "display_data"
    }
   ],
   "source": [
    "plt.plot(losses)"
   ]
  }
 ],
 "metadata": {
  "kernelspec": {
   "display_name": "adv",
   "language": "python",
   "name": "python3"
  },
  "language_info": {
   "codemirror_mode": {
    "name": "ipython",
    "version": 3
   },
   "file_extension": ".py",
   "mimetype": "text/x-python",
   "name": "python",
   "nbconvert_exporter": "python",
   "pygments_lexer": "ipython3",
   "version": "3.11.5"
  }
 },
 "nbformat": 4,
 "nbformat_minor": 2
}
