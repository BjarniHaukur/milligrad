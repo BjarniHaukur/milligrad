{
 "cells": [
  {
   "cell_type": "code",
   "execution_count": 42,
   "metadata": {},
   "outputs": [
    {
     "name": "stdout",
     "output_type": "stream",
     "text": [
      "The autoreload extension is already loaded. To reload it, use:\n",
      "  %reload_ext autoreload\n"
     ]
    }
   ],
   "source": [
    "# autoreload\n",
    "%load_ext autoreload\n",
    "%autoreload 2\n",
    "\n",
    "from milligrad.module import Module\n",
    "from milligrad.tensor import Tensor, topological_sort\n",
    "\n",
    "from matplotlib import pyplot as plt"
   ]
  },
  {
   "cell_type": "code",
   "execution_count": 58,
   "metadata": {},
   "outputs": [],
   "source": [
    "class MLP(Module):\n",
    "    def __init__(self):\n",
    "        self.linear1 = Tensor.xavier(3, 4)\n",
    "        self.linear2 = Tensor.xavier(4, 2)\n",
    "        self.bias1 = Tensor.randn(4)\n",
    "        self.bias2 = Tensor.randn(2)\n",
    "        \n",
    "    def __call__(self, x):\n",
    "        x = x @ self.linear1 + self.bias1\n",
    "        x = x.relu()\n",
    "        x = x @ self.linear2 + self.bias2\n",
    "        return x.tanh()\n",
    "    \n",
    "    def parameters(self) -> list[Tensor]:\n",
    "        return [self.linear1, self.linear2, self.bias1, self.bias2]\n",
    "    \n",
    "class Perceptron(Module):\n",
    "    def __init__(self):\n",
    "        self.W = Tensor.randn(3, 2)\n",
    "        self.b = Tensor.randn(2)\n",
    "        \n",
    "    def __call__(self, x):\n",
    "        return x @ self.W + self.b\n",
    "    \n",
    "    def parameters(self) -> list[Tensor]:\n",
    "        return [self.W, self.b]"
   ]
  },
  {
   "cell_type": "code",
   "execution_count": 59,
   "metadata": {},
   "outputs": [
    {
     "data": {
      "text/plain": [
       "['@', '+', 'relu', '@', '+', 'tanh', '-', '+', '**2', 'sum', 'sum']"
      ]
     },
     "execution_count": 59,
     "metadata": {},
     "output_type": "execute_result"
    }
   ],
   "source": [
    "\n",
    "from milligrad.tensor import topological_sort\n",
    "\n",
    "x = Tensor.randn(5, 3)\n",
    "y = Tensor([[0.8, -0.3], [0.2, 0.1], [0.1, 0.2], [0.1, 0.3], [0.1, 0.4]])\n",
    "\n",
    "mlp = MLP()\n",
    "y_hat = mlp(x)\n",
    "loss = ((y - y_hat)**2).sum().sum()\n",
    "\n",
    "sorted_tensors = topological_sort(loss)\n",
    "[x.name for x in sorted_tensors if x.name] # \"\" is falsy"
   ]
  },
  {
   "cell_type": "code",
   "execution_count": null,
   "metadata": {},
   "outputs": [],
   "source": [
    "x = Tensor.randn(5, 3)\n",
    "y = Tensor.zeros(5, 2)"
   ]
  },
  {
   "cell_type": "code",
   "execution_count": 65,
   "metadata": {},
   "outputs": [],
   "source": [
    "model = Perceptron()\n",
    "\n",
    "losses = []\n",
    "for i in range(1000):\n",
    "    y_hat = model(x)\n",
    "    loss = ((y - y_hat)**2).sum().sum()\n",
    "    loss.backward()\n",
    "    \n",
    "    for param in model.parameters():\n",
    "        param.data -= param.grad * 1e-3\n",
    "        \n",
    "    model.zero_grad()\n",
    "    losses.append(loss.data)"
   ]
  },
  {
   "cell_type": "code",
   "execution_count": 66,
   "metadata": {},
   "outputs": [
    {
     "data": {
      "text/plain": [
       "[<matplotlib.lines.Line2D at 0x1520b19d0>]"
      ]
     },
     "execution_count": 66,
     "metadata": {},
     "output_type": "execute_result"
    },
    {
     "data": {
      "image/png": "[encoded data removed]",
      "text/plain": [
       "<Figure size 640x480 with 1 Axes>"
      ]
     },
     "metadata": {},
     "output_type": "display_data"
    }
   ],
   "source": [
    "plt.plot(losses)"
   ]
  }
 ],
 "metadata": {
  "kernelspec": {
   "display_name": "adv",
   "language": "python",
   "name": "python3"
  },
  "language_info": {
   "codemirror_mode": {
    "name": "ipython",
    "version": 3
   },
   "file_extension": ".py",
   "mimetype": "text/x-python",
   "name": "python",
   "nbconvert_exporter": "python",
   "pygments_lexer": "ipython3",
   "version": "3.11.5"
  }
 },
 "nbformat": 4,
 "nbformat_minor": 2
}
