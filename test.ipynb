{
 "cells": [
  {
   "cell_type": "code",
   "execution_count": 1,
   "metadata": {},
   "outputs": [],
   "source": [
    "# autoreload\n",
    "%load_ext autoreload\n",
    "%autoreload 2\n",
    "\n",
    "from milligrad.module import Module\n",
    "from milligrad.tensor import Tensor, topological_sort\n",
    "\n",
    "from matplotlib import pyplot as plt"
   ]
  },
  {
   "cell_type": "code",
   "execution_count": 2,
   "metadata": {},
   "outputs": [],
   "source": [
    "class MLP(Module):\n",
    "    def __init__(self):\n",
    "        self.w1 = Tensor.xavier(3, 20)\n",
    "        self.w2 = Tensor.xavier(20, 2)\n",
    "        self.b1 = Tensor.randn(20)\n",
    "        self.b2 = Tensor.randn(2)\n",
    "        \n",
    "    def __call__(self, x):\n",
    "        x = x @ self.w1 + self.b1\n",
    "        x = x.relu()\n",
    "        x = x @ self.w2 + self.b2\n",
    "        return x.tanh()\n",
    "    \n",
    "    def parameters(self) -> list[Tensor]:\n",
    "        return [self.w1, self.w2, self.b1, self.b2]\n",
    "    \n",
    "class Perceptron(Module):\n",
    "    def __init__(self):\n",
    "        self.w = Tensor.randn(3, 2)\n",
    "        self.b = Tensor.randn(2)\n",
    "        \n",
    "    def __call__(self, x):\n",
    "        return x @ self.w + self.b\n",
    "    \n",
    "    def parameters(self) -> list[Tensor]:\n",
    "        return [self.w, self.b]"
   ]
  },
  {
   "cell_type": "code",
   "execution_count": 12,
   "metadata": {},
   "outputs": [
    {
     "data": {
      "text/plain": [
       "['relu', '+', '@', 'input', 'weight', 'bias']"
      ]
     },
     "execution_count": 12,
     "metadata": {},
     "output_type": "execute_result"
    }
   ],
   "source": [
    "\n",
    "\n",
    "b = Tensor.randn(3, name=\"bias\")\n",
    "w = Tensor.randn(2, 3, name=\"weight\")\n",
    "x = Tensor.randn(5, 2, name=\"input\")\n",
    "y = (x @ w + b).relu()\n",
    "\n",
    "# operations are recorded to perform backpropagation\n",
    "# the order below is the order in which we bacpropagate\n",
    "sorted_tensors = reversed(topological_sort(y))\n",
    "[x.name for x in sorted_tensors if x.name] # \"\" is falsy"
   ]
  },
  {
   "cell_type": "code",
   "execution_count": 4,
   "metadata": {},
   "outputs": [],
   "source": [
    "x = Tensor.randn(20, 3)\n",
    "y = Tensor.ones(20, 2)\n",
    "\n",
    "model = MLP()\n",
    "\n",
    "losses = []\n",
    "for i in range(1000):\n",
    "    y_hat = model(x)\n",
    "    loss = ((y - y_hat)**2).sum().sum()\n",
    "    loss.backward()\n",
    "    \n",
    "    for param in model.parameters():\n",
    "        param.data -= param.grad * 1e-3\n",
    "        \n",
    "    model.zero_grad()\n",
    "    losses.append(loss.data)"
   ]
  },
  {
   "cell_type": "code",
   "execution_count": 5,
   "metadata": {},
   "outputs": [
    {
     "data": {
      "text/plain": [
       "[<matplotlib.lines.Line2D at 0x11d7a6550>]"
      ]
     },
     "execution_count": 5,
     "metadata": {},
     "output_type": "execute_result"
    },
    {
     "data": {
      "image/png": "[encoded data removed]",
      "text/plain": [
       "<Figure size 640x480 with 1 Axes>"
      ]
     },
     "metadata": {},
     "output_type": "display_data"
    }
   ],
   "source": [
    "plt.plot(losses)"
   ]
  },
  {
   "cell_type": "code",
   "execution_count": 6,
   "metadata": {},
   "outputs": [
    {
     "data": {
      "text/plain": [
       "array([[0.98433402, 0.99260895],\n",
       "       [0.9872645 , 0.97704567],\n",
       "       [0.99143591, 0.99361096],\n",
       "       [0.97821914, 0.99441548],\n",
       "       [0.9973245 , 0.97608671],\n",
       "       [0.99722898, 0.98765938],\n",
       "       [0.99024522, 0.98113974],\n",
       "       [0.9835265 , 0.99499991],\n",
       "       [0.99867642, 0.99435802],\n",
       "       [0.99134437, 0.98672545],\n",
       "       [0.99514381, 0.99571426],\n",
       "       [0.97412877, 0.99762239],\n",
       "       [0.97059928, 0.98859616],\n",
       "       [0.99434814, 0.98163903],\n",
       "       [0.99849847, 0.9910703 ],\n",
       "       [0.99464743, 0.99527962],\n",
       "       [0.97979941, 0.97318612],\n",
       "       [0.9950205 , 0.99112773],\n",
       "       [0.98681376, 0.99259214],\n",
       "       [0.99150891, 0.99479777]])"
      ]
     },
     "execution_count": 6,
     "metadata": {},
     "output_type": "execute_result"
    }
   ],
   "source": [
    "y_hat"
   ]
  },
  {
   "cell_type": "code",
   "execution_count": 7,
   "metadata": {},
   "outputs": [
    {
     "ename": "AssertionError",
     "evalue": "No gradient tracking when in no_grad mode",
     "output_type": "error",
     "traceback": [
      "\u001b[0;31m---------------------------------------------------------------------------\u001b[0m",
      "\u001b[0;31mAssertionError\u001b[0m                            Traceback (most recent call last)",
      "Cell \u001b[0;32mIn[7], line 4\u001b[0m\n\u001b[1;32m      2\u001b[0m \u001b[38;5;28;01mwith\u001b[39;00m Tensor\u001b[38;5;241m.\u001b[39mno_grad():\n\u001b[1;32m      3\u001b[0m     y_hat \u001b[38;5;241m=\u001b[39m model(x)\n\u001b[0;32m----> 4\u001b[0m     y_hat\u001b[38;5;241m.\u001b[39mbackward()\n",
      "File \u001b[0;32m~/Documents/Projects/milligrad/milligrad/tensor.py:77\u001b[0m, in \u001b[0;36mTensor.backward\u001b[0;34m(self)\u001b[0m\n\u001b[1;32m     76\u001b[0m \u001b[38;5;28;01mdef\u001b[39;00m \u001b[38;5;21mbackward\u001b[39m(\u001b[38;5;28mself\u001b[39m):\n\u001b[0;32m---> 77\u001b[0m     \u001b[38;5;28;01massert\u001b[39;00m \u001b[38;5;129;01mnot\u001b[39;00m Tensor\u001b[38;5;241m.\u001b[39m_no_grad, \u001b[38;5;124m\"\u001b[39m\u001b[38;5;124mNo gradient tracking when in no_grad mode\u001b[39m\u001b[38;5;124m\"\u001b[39m\n\u001b[1;32m     78\u001b[0m     \u001b[38;5;28mself\u001b[39m\u001b[38;5;241m.\u001b[39mgrad \u001b[38;5;241m=\u001b[39m np\u001b[38;5;241m.\u001b[39mones_like(\u001b[38;5;28mself\u001b[39m\u001b[38;5;241m.\u001b[39mdata) \u001b[38;5;66;03m# dL/dL = 1\u001b[39;00m\n\u001b[1;32m     80\u001b[0m     \u001b[38;5;28;01mfor\u001b[39;00m tensor \u001b[38;5;129;01min\u001b[39;00m \u001b[38;5;28mreversed\u001b[39m(topological_sort(\u001b[38;5;28mself\u001b[39m)):\n\u001b[1;32m     81\u001b[0m         \u001b[38;5;66;03m# the _backward functions keep copies of their data in the closure\u001b[39;00m\n",
      "\u001b[0;31mAssertionError\u001b[0m: No gradient tracking when in no_grad mode"
     ]
    }
   ],
   "source": [
    "# example of using no_grad\n",
    "with Tensor.no_grad():\n",
    "    y_hat = model(x)\n",
    "    y_hat.backward()"
   ]
  }
 ],
 "metadata": {
  "kernelspec": {
   "display_name": "adv",
   "language": "python",
   "name": "python3"
  },
  "language_info": {
   "codemirror_mode": {
    "name": "ipython",
    "version": 3
   },
   "file_extension": ".py",
   "mimetype": "text/x-python",
   "name": "python",
   "nbconvert_exporter": "python",
   "pygments_lexer": "ipython3",
   "version": "3.11.5"
  }
 },
 "nbformat": 4,
 "nbformat_minor": 2
}
